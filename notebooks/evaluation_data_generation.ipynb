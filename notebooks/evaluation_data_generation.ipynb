{
 "cells": [
  {
   "cell_type": "code",
   "execution_count": 1,
   "id": "c8caf8e1-aaf1-45d9-9dc7-0060c83f2a9e",
   "metadata": {},
   "outputs": [],
   "source": [
    "import os\n",
    "from dotenv import load_dotenv\n",
    "import pandas as pd\n",
    "import json\n",
    "import openai\n",
    "from openai import OpenAI\n",
    "import hashlib\n",
    "from tqdm.auto import tqdm"
   ]
  },
  {
   "cell_type": "code",
   "execution_count": 2,
   "id": "86e41a6b-3a32-4700-89cd-89b66222e399",
   "metadata": {},
   "outputs": [],
   "source": [
    "df=pd.read_json('../data/recipes.json')"
   ]
  },
  {
   "cell_type": "code",
   "execution_count": 3,
   "id": "a11b6e94-2318-4c1e-978d-9f0a48720b01",
   "metadata": {},
   "outputs": [],
   "source": [
    "df['id']=df.apply(lambda row:hashlib.md5(str(row).encode('utf-8')).hexdigest()[:4], axis=1)"
   ]
  },
  {
   "cell_type": "code",
   "execution_count": 4,
   "id": "34a3a7c3-de39-489b-8873-d7b733581346",
   "metadata": {},
   "outputs": [],
   "source": [
    "df.drop(columns=['output','date'],inplace=True)"
   ]
  },
  {
   "cell_type": "code",
   "execution_count": 5,
   "id": "9352a117-213c-487b-b6df-247d31744131",
   "metadata": {},
   "outputs": [
    {
     "data": {
      "text/html": [
       "<div>\n",
       "<style scoped>\n",
       "    .dataframe tbody tr th:only-of-type {\n",
       "        vertical-align: middle;\n",
       "    }\n",
       "\n",
       "    .dataframe tbody tr th {\n",
       "        vertical-align: top;\n",
       "    }\n",
       "\n",
       "    .dataframe thead th {\n",
       "        text-align: right;\n",
       "    }\n",
       "</style>\n",
       "<table border=\"1\" class=\"dataframe\">\n",
       "  <thead>\n",
       "    <tr style=\"text-align: right;\">\n",
       "      <th></th>\n",
       "      <th>title</th>\n",
       "      <th>tags</th>\n",
       "      <th>introduction</th>\n",
       "      <th>ingredients</th>\n",
       "      <th>direction</th>\n",
       "      <th>id</th>\n",
       "    </tr>\n",
       "  </thead>\n",
       "  <tbody>\n",
       "    <tr>\n",
       "      <th>0</th>\n",
       "      <td>Creamy Mashed Potatoes</td>\n",
       "      <td>[potato, side, cheesefare]</td>\n",
       "      <td>![Creamy Mashed Potatoes](/pix/creamy-mashed-p...</td>\n",
       "      <td>The quantities here are for about four adult p...</td>\n",
       "      <td>1. Peel and cut the potatoes into medium sized...</td>\n",
       "      <td>83f4</td>\n",
       "    </tr>\n",
       "    <tr>\n",
       "      <th>1</th>\n",
       "      <td>Red Sauce (Ragu all'Italiana)</td>\n",
       "      <td>[italian, sauce]</td>\n",
       "      <td>My great-grandma's red sauce. All purpose: goo...</td>\n",
       "      <td>- 1/3 lb salt pork - 2 lb chuck roast - 3 Clov...</td>\n",
       "      <td>1. Mince the garlic, peel the carrot, peel and...</td>\n",
       "      <td>f114</td>\n",
       "    </tr>\n",
       "    <tr>\n",
       "      <th>2</th>\n",
       "      <td>Turmeric Flatbread</td>\n",
       "      <td>[bread, turkish]</td>\n",
       "      <td>A great companion to Turkish Red Lentil Soup. ...</td>\n",
       "      <td>- 1 cup Wheat Flour (white or whole) - 1/2 Tbs...</td>\n",
       "      <td>1. Combine flour, turmeric, salt and baking po...</td>\n",
       "      <td>5a90</td>\n",
       "    </tr>\n",
       "    <tr>\n",
       "      <th>3</th>\n",
       "      <td>Zurich-Style Meat Saute</td>\n",
       "      <td>[beef, cream, swiss, quick]</td>\n",
       "      <td>Originally called \"Züri Gschnätzlets\" (Zurich ...</td>\n",
       "      <td>- 600g\\tBeef, finely sliced - 250g\\tMushrooms,...</td>\n",
       "      <td>1. Fry the meat in butter at high heat until i...</td>\n",
       "      <td>0b3f</td>\n",
       "    </tr>\n",
       "    <tr>\n",
       "      <th>4</th>\n",
       "      <td>Tuscan Style Pork Roast</td>\n",
       "      <td>[italian, pork, roast]</td>\n",
       "      <td>![tuscan-style-pork-roast](/pix/tuscan-style-p...</td>\n",
       "      <td>- 1 pork Roast - 2-3 Tbsp fresh rosemary - 8 c...</td>\n",
       "      <td>1.\\tPreheat oven to 275°F (135°C) 2.\\tButterfl...</td>\n",
       "      <td>bacf</td>\n",
       "    </tr>\n",
       "  </tbody>\n",
       "</table>\n",
       "</div>"
      ],
      "text/plain": [
       "                           title                         tags  \\\n",
       "0         Creamy Mashed Potatoes   [potato, side, cheesefare]   \n",
       "1  Red Sauce (Ragu all'Italiana)             [italian, sauce]   \n",
       "2             Turmeric Flatbread             [bread, turkish]   \n",
       "3        Zurich-Style Meat Saute  [beef, cream, swiss, quick]   \n",
       "4        Tuscan Style Pork Roast       [italian, pork, roast]   \n",
       "\n",
       "                                        introduction  \\\n",
       "0  ![Creamy Mashed Potatoes](/pix/creamy-mashed-p...   \n",
       "1  My great-grandma's red sauce. All purpose: goo...   \n",
       "2  A great companion to Turkish Red Lentil Soup. ...   \n",
       "3  Originally called \"Züri Gschnätzlets\" (Zurich ...   \n",
       "4  ![tuscan-style-pork-roast](/pix/tuscan-style-p...   \n",
       "\n",
       "                                         ingredients  \\\n",
       "0  The quantities here are for about four adult p...   \n",
       "1  - 1/3 lb salt pork - 2 lb chuck roast - 3 Clov...   \n",
       "2  - 1 cup Wheat Flour (white or whole) - 1/2 Tbs...   \n",
       "3  - 600g\\tBeef, finely sliced - 250g\\tMushrooms,...   \n",
       "4  - 1 pork Roast - 2-3 Tbsp fresh rosemary - 8 c...   \n",
       "\n",
       "                                           direction    id  \n",
       "0  1. Peel and cut the potatoes into medium sized...  83f4  \n",
       "1  1. Mince the garlic, peel the carrot, peel and...  f114  \n",
       "2  1. Combine flour, turmeric, salt and baking po...  5a90  \n",
       "3  1. Fry the meat in butter at high heat until i...  0b3f  \n",
       "4  1.\\tPreheat oven to 275°F (135°C) 2.\\tButterfl...  bacf  "
      ]
     },
     "execution_count": 5,
     "metadata": {},
     "output_type": "execute_result"
    }
   ],
   "source": [
    "df.head()"
   ]
  },
  {
   "cell_type": "code",
   "execution_count": 6,
   "id": "f3fa231f-53eb-4710-b054-db195631e788",
   "metadata": {},
   "outputs": [],
   "source": [
    "df.to_csv('../data/cleandata_recipes.csv',index=False)"
   ]
  },
  {
   "cell_type": "code",
   "execution_count": 6,
   "id": "13ff2343-f0cd-4e6e-a0af-f5ff5cee2211",
   "metadata": {},
   "outputs": [],
   "source": [
    "documents=df.to_dict(orient='records')"
   ]
  },
  {
   "cell_type": "code",
   "execution_count": 7,
   "id": "a5fcfcaa-c434-48b6-bed3-f7aafa79b62b",
   "metadata": {},
   "outputs": [
    {
     "data": {
      "text/plain": [
       "{'title': 'Soleier (pickled eggs)',\n",
       " 'tags': ['snack', 'german', 'eggs', 'pub'],\n",
       " 'introduction': '![Soleier](/pix/soleier.webp) Soleier are a german pub dish. They are typically enjoyed between two beers. - ⏲️ Preparation time: 10min - 🍳 Cook time: 10min - 🍽️ Servings: 10',\n",
       " 'ingredients': '- peels of five onions - 10 eggs - 2 loorber leaves - 3 cloves - 4 allspice - 1Tbsp peppercorns - 1Tbsp caraway seeds - 1Tbsp mustard seeds - 1tsp of Szechuan pepper (optional) - 1tsp lovage (optional) - 1tsp nutmeg (optional) - 100mL vinegar - 3 cloves of garlic',\n",
       " 'direction': '1. Put 750mL of water and the peels of five onions in a pot and let them cook for five minutes. Remove the peels about twenty minutes later. 2. Put the eggs, one teaspoon of sugar, two tablespoons of salt and all spices (but vinegar and garlic) in the pot, bring it to a boil and cook them for seven minutes. 3. Use a spoon to remove the eggs from the pot and crack them all around. Do not remove the eggshell! 4. Place the eggs and the garlic in a jar, fill it with the spiced water and add the vinegar. Add water, if needed, so that the eggs are covered. 5. Let them rest for at least three days and at most two weeks at room temperature or slightly below. ## Consumption Recommendation 1. Peel the egg and cut it in half. 2. Remove the yolk and fill the egg with mustard, oil, salt and pepper. 3. Place the yolk on top.',\n",
       " 'id': 'db0a'}"
      ]
     },
     "execution_count": 7,
     "metadata": {},
     "output_type": "execute_result"
    }
   ],
   "source": [
    "documents[57]"
   ]
  },
  {
   "cell_type": "code",
   "execution_count": 14,
   "id": "e6fac4d6-49d8-43ee-95ce-d49dbf50e41f",
   "metadata": {},
   "outputs": [],
   "source": [
    "load_dotenv()\n",
    "openai.api_key = os.getenv(\"OPENAI_API_KEY\")\n",
    "client=OpenAI()"
   ]
  },
  {
   "cell_type": "code",
   "execution_count": 15,
   "id": "fde1ccd0-fb47-4b80-9401-c860f786489a",
   "metadata": {},
   "outputs": [],
   "source": [
    "prompt_template=\"\"\"\n",
    "    you emulate a user of our recipe instrictions application.\n",
    "    formulate 5 questions this user might ask based on the dish.\n",
    "    make the questions specific to this dish,\n",
    "    recipe_docs should contain answer to this dish,and the questions should be complete  based on each user preferences.\n",
    "    recipe_docs:\n",
    "    title:{title}\n",
    "    tags:{tags}\n",
    "    introduction:{introduction}\n",
    "    ingredients:{ingredients}\n",
    "    direction:{direction}\n",
    "    provide the output in parsable JSON without using code blocks:\n",
    "    {{\"questions\":[\"question1\",\"question2\", ...,\"question5\"]}}\n",
    "    \"\"\".strip()\n",
    "prompt=prompt_template.format(**documents[0])\n",
    "    \n",
    "    "
   ]
  },
  {
   "cell_type": "code",
   "execution_count": 16,
   "id": "7fea2461-e2c5-41b8-a979-6a2965621e4e",
   "metadata": {},
   "outputs": [],
   "source": [
    "def llm(prompt):\n",
    "        response=client.chat.completions.create(\n",
    "                        model='gpt-4o-mini',\n",
    "                        messages=[{\"role\":\"user\",\"content\":prompt}]\n",
    "        )\n",
    "        return response.choices[0].message.content"
   ]
  },
  {
   "cell_type": "code",
   "execution_count": 17,
   "id": "11d7fc90-22a1-48fa-af34-501af3194879",
   "metadata": {},
   "outputs": [],
   "source": [
    "questions=llm(prompt)"
   ]
  },
  {
   "cell_type": "code",
   "execution_count": 18,
   "id": "cca49b56-887f-4a0f-95d6-66c0f5ad5c2a",
   "metadata": {},
   "outputs": [
    {
     "data": {
      "text/plain": [
       "{'questions': ['Can I substitute the bacon with a vegetarian option in the creamy mashed potatoes recipe?',\n",
       "  'What type of cheese works best for adding flavor to the creamy mashed potatoes?',\n",
       "  'How can I make the mashed potatoes gluten-free while still keeping them creamy?',\n",
       "  'What can I use instead of mayonnaise if I want a lighter version of the creamy mashed potatoes?',\n",
       "  'How do I adjust the recipe if I want to make a smaller portion for just two people?']}"
      ]
     },
     "execution_count": 18,
     "metadata": {},
     "output_type": "execute_result"
    }
   ],
   "source": [
    "json.loads(questions)"
   ]
  },
  {
   "cell_type": "code",
   "execution_count": 19,
   "id": "7086df07-82b5-49c4-989d-8f0ecbcd1d8c",
   "metadata": {},
   "outputs": [],
   "source": [
    "def generate_questions(doc):\n",
    "    prompt=prompt_template.format(**doc)\n",
    "    response=client.chat.completions.create(\n",
    "                        model='gpt-4o-mini',\n",
    "                        messages=[{\"role\":\"user\",\"content\":prompt}]\n",
    "    )\n",
    "    response_json=response.choices[0].message.content\n",
    "    return response_json\n",
    "    "
   ]
  },
  {
   "cell_type": "code",
   "execution_count": 20,
   "id": "8cec89f7-f73a-4a25-8f13-07048c1919a7",
   "metadata": {},
   "outputs": [],
   "source": [
    "from json.decoder import JSONDecodeError "
   ]
  },
  {
   "cell_type": "code",
   "execution_count": 21,
   "id": "53caf4a5-d83e-48bf-b474-90c8d6386764",
   "metadata": {},
   "outputs": [
    {
     "data": {
      "application/vnd.jupyter.widget-view+json": {
       "model_id": "69139afdaae1466ebcd6dc2c5ab7c86a",
       "version_major": 2,
       "version_minor": 0
      },
      "text/plain": [
       "  0%|          | 0/360 [00:00<?, ?it/s]"
      ]
     },
     "metadata": {},
     "output_type": "display_data"
    },
    {
     "name": "stdout",
     "output_type": "stream",
     "text": [
      "Error parsing JSON: Expecting ',' delimiter: line 1 column 397 (char 396)\n",
      "Error parsing JSON: Expecting ',' delimiter: line 1 column 499 (char 498)\n",
      "Error parsing JSON: Unterminated string starting at: line 1 column 441 (char 440)\n"
     ]
    }
   ],
   "source": [
    "results={}\n",
    "for doc in tqdm(documents):\n",
    "        question_id = doc['id']\n",
    "        if question_id in results:\n",
    "            continue\n",
    "        try:\n",
    "            llm_questions=generate_questions(doc)\n",
    "            #print(llm_questions) \n",
    "            questions=json.loads(llm_questions)\n",
    "            results[question_id] = questions['questions']\n",
    "        except JSONDecodeError as e:\n",
    "              print(f\"Error parsing JSON: {e}\")"
   ]
  },
  {
   "cell_type": "code",
   "execution_count": 22,
   "id": "86c5d17a-0d66-4f7f-aaee-b80159726e7d",
   "metadata": {},
   "outputs": [],
   "source": [
    "final_questions=[]\n",
    "for question_id,questions in results.items():\n",
    "        for q in questions:\n",
    "                final_questions.append((question_id,q))\n",
    "            "
   ]
  },
  {
   "cell_type": "code",
   "execution_count": 23,
   "id": "459a2981-9253-4e9c-9bda-033bc4864dea",
   "metadata": {},
   "outputs": [],
   "source": [
    "df_questions=pd.DataFrame(final_questions,columns=['id','questions'])"
   ]
  },
  {
   "cell_type": "code",
   "execution_count": 24,
   "id": "5c881755-da4a-4d16-b447-d479b8956d7b",
   "metadata": {},
   "outputs": [
    {
     "data": {
      "text/html": [
       "<div>\n",
       "<style scoped>\n",
       "    .dataframe tbody tr th:only-of-type {\n",
       "        vertical-align: middle;\n",
       "    }\n",
       "\n",
       "    .dataframe tbody tr th {\n",
       "        vertical-align: top;\n",
       "    }\n",
       "\n",
       "    .dataframe thead th {\n",
       "        text-align: right;\n",
       "    }\n",
       "</style>\n",
       "<table border=\"1\" class=\"dataframe\">\n",
       "  <thead>\n",
       "    <tr style=\"text-align: right;\">\n",
       "      <th></th>\n",
       "      <th>id</th>\n",
       "      <th>questions</th>\n",
       "    </tr>\n",
       "  </thead>\n",
       "  <tbody>\n",
       "    <tr>\n",
       "      <th>0</th>\n",
       "      <td>83f4</td>\n",
       "      <td>What type of potatoes are best for making crea...</td>\n",
       "    </tr>\n",
       "    <tr>\n",
       "      <th>1</th>\n",
       "      <td>83f4</td>\n",
       "      <td>Can I use a substitute for mayonnaise in the r...</td>\n",
       "    </tr>\n",
       "    <tr>\n",
       "      <th>2</th>\n",
       "      <td>83f4</td>\n",
       "      <td>How can I adjust the recipe if I want to make ...</td>\n",
       "    </tr>\n",
       "    <tr>\n",
       "      <th>3</th>\n",
       "      <td>83f4</td>\n",
       "      <td>What can I do to make the mashed potatoes extr...</td>\n",
       "    </tr>\n",
       "    <tr>\n",
       "      <th>4</th>\n",
       "      <td>83f4</td>\n",
       "      <td>Is it possible to prepare the creamy mashed po...</td>\n",
       "    </tr>\n",
       "  </tbody>\n",
       "</table>\n",
       "</div>"
      ],
      "text/plain": [
       "     id                                          questions\n",
       "0  83f4  What type of potatoes are best for making crea...\n",
       "1  83f4  Can I use a substitute for mayonnaise in the r...\n",
       "2  83f4  How can I adjust the recipe if I want to make ...\n",
       "3  83f4  What can I do to make the mashed potatoes extr...\n",
       "4  83f4  Is it possible to prepare the creamy mashed po..."
      ]
     },
     "execution_count": 24,
     "metadata": {},
     "output_type": "execute_result"
    }
   ],
   "source": [
    "df_questions.head()"
   ]
  },
  {
   "cell_type": "code",
   "execution_count": 25,
   "id": "730176b9-a981-406b-a1c6-12c9a1b92eba",
   "metadata": {},
   "outputs": [],
   "source": [
    "df_questions.to_csv('../data/ground_truth_data.csv',index=False)"
   ]
  },
  {
   "cell_type": "code",
   "execution_count": 26,
   "id": "88f36844-8bf4-4ca6-8916-761969c82c60",
   "metadata": {},
   "outputs": [
    {
     "name": "stdout",
     "output_type": "stream",
     "text": [
      "id,questions\n",
      "83f4,\"What type of potatoes are best for making creamy mashed potatoes, and do you recommend any specific variety?\"\n",
      "83f4,\"Can I use a substitute for mayonnaise in the recipe, and if so, what would you suggest for a similar creamy texture?\"\n",
      "83f4,\"How can I adjust the recipe if I want to make it vegan or dairy-free, especially considering the cheese and milk ingredients?\"\n",
      "83f4,\"What can I do to make the mashed potatoes extra cheesy without overwhelming the flavor, and how much more cheese should I add?\"\n",
      "83f4,\"Is it possible to prepare the creamy mashed potatoes in advance, and if so, how should I store and reheat them to maintain their creaminess?\"\n",
      "f114,What can I substitute for salt pork if I can't find it in my local store?\n",
      "f114,How should I adjust the cooking time if I want to make a smaller batch of the red sauce?\n",
      "f114,\"Can I use fresh tomatoes instead of canned tomatoes, and if so, how would that affect the recipe?\"\n",
      "f114,What are some ideal dishes to pair with this red sauce besides pasta?\n"
     ]
    }
   ],
   "source": [
    "!head ../data/ground_truth_data.csv"
   ]
  }
 ],
 "metadata": {
  "kernelspec": {
   "display_name": "Python 3 (ipykernel)",
   "language": "python",
   "name": "python3"
  },
  "language_info": {
   "codemirror_mode": {
    "name": "ipython",
    "version": 3
   },
   "file_extension": ".py",
   "mimetype": "text/x-python",
   "name": "python",
   "nbconvert_exporter": "python",
   "pygments_lexer": "ipython3",
   "version": "3.12.1"
  }
 },
 "nbformat": 4,
 "nbformat_minor": 5
}
