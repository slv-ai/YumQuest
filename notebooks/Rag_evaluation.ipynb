{
 "cells": [
  {
   "cell_type": "code",
   "execution_count": 1,
   "id": "ae69e7ad-6ee0-491c-86e0-8da2ff5fbc85",
   "metadata": {},
   "outputs": [],
   "source": [
    "import pandas as pd\n",
    "import json\n",
    "import os\n",
    "from dotenv import load_dotenv\n",
    "import openai\n",
    "from tqdm.auto import tqdm"
   ]
  },
  {
   "cell_type": "markdown",
   "id": "694b77a7-d6c9-4ac2-bd23-13cf40dff21a",
   "metadata": {},
   "source": [
    "# Data Ingestion and Indexing"
   ]
  },
  {
   "cell_type": "code",
   "execution_count": 2,
   "id": "b601ea2f-e657-43d4-8708-d5d504494a15",
   "metadata": {},
   "outputs": [],
   "source": [
    "df=pd.read_json('../data/recipes.json')"
   ]
  },
  {
   "cell_type": "code",
   "execution_count": 3,
   "id": "7ad37123-5de1-40d6-a06e-9424c0142482",
   "metadata": {},
   "outputs": [],
   "source": [
    "receipes=df.to_dict(orient='records')"
   ]
  },
  {
   "cell_type": "code",
   "execution_count": 4,
   "id": "d54c1c8d-f9c5-4fab-9226-00a0dfad4d66",
   "metadata": {},
   "outputs": [
    {
     "name": "stdout",
     "output_type": "stream",
     "text": [
      "360\n"
     ]
    }
   ],
   "source": [
    "print(len(receipes))"
   ]
  },
  {
   "cell_type": "code",
   "execution_count": 5,
   "id": "ae7b546b-1c67-4b6f-874c-cb79603db490",
   "metadata": {},
   "outputs": [],
   "source": [
    "clean_recipes = []\n",
    "for recipe in receipes:\n",
    "    clean_recipe = {key: value for key, value in recipe.items() if key not in ['output', 'date']}\n",
    "    clean_recipes.append(clean_recipe)"
   ]
  },
  {
   "cell_type": "code",
   "execution_count": 6,
   "id": "e579d9e7-189c-4a32-96c3-02639b57e4b9",
   "metadata": {},
   "outputs": [
    {
     "data": {
      "text/plain": [
       "{'title': 'Creamy Mashed Potatoes',\n",
       " 'tags': ['potato', 'side', 'cheesefare'],\n",
       " 'introduction': \"![Creamy Mashed Potatoes](/pix/creamy-mashed-potatoes.webp) Mashed potatoes is a really great recipe that is often relegated to the position of side dish. This recipe is a spin of the classical mashed potatoes recipe that's got itself more going on. You can serve this dish for a relatively light meal, or you can also serve it as a side dish if you want to have a really hearty meal.\",\n",
       " 'ingredients': 'The quantities here are for about four adult portions. If you are planning on eating this as a side dish, it might be more like 6-8 portions. * 1kg potatoes * 200ml milk* * 200ml mayonnaise* * ~100g cheese * Garlic powder * 12-16 strips of bacon * Butter * 3-4 green onions * Black pepper * Salt  *You can play with the proportions depending on how creamy or dry you want the mashed potatoes to be.',\n",
       " 'direction': '1. Peel and cut the potatoes into medium sized pieces. 2. Put the potatoes in a pot with some water so that it covers the potatoes and   boil them for about 20-30 minutes, or until the potatoes are soft. 3. About ten minutes before removing the potatoes from the boiling water, cut   the bacon into little pieces and fry it. 4. Warm up the milk and mayonnaise. 5. Shred the cheese. 6. When the potatoes are done, remove all water from the pot, add the warm milk   and mayonnaise mix, add some butter, and mash with a potato masher or a   blender. 7. Add some salt, black pepper and garlic powder to taste and continue mashing   the mix. 8. Once the mix is somewhat homogeneous and the potatoes are properly mashed,   add the shredded cheese and fried bacon and mix a little. 9. Serve and top with chopped green onions.'}"
      ]
     },
     "execution_count": 6,
     "metadata": {},
     "output_type": "execute_result"
    }
   ],
   "source": [
    "clean_recipes[0]"
   ]
  },
  {
   "cell_type": "code",
   "execution_count": 7,
   "id": "bc4a26b5-cd9c-4b29-bcf5-29cc91172103",
   "metadata": {},
   "outputs": [
    {
     "name": "stderr",
     "output_type": "stream",
     "text": [
      "/usr/local/python/3.12.1/lib/python3.12/site-packages/transformers/tokenization_utils_base.py:1617: FutureWarning: `clean_up_tokenization_spaces` was not set. It will be set to `True` by default. This behavior will be deprecated in transformers v4.45, and will be then set to `False` by default. For more details check this issue: https://github.com/huggingface/transformers/issues/31884\n",
      "  warnings.warn(\n"
     ]
    }
   ],
   "source": [
    "from sentence_transformers import SentenceTransformer\n",
    "model_name='all-MiniLM-L12-v2'\n",
    "model=SentenceTransformer(model_name)"
   ]
  },
  {
   "cell_type": "code",
   "execution_count": 77,
   "id": "d31a06cc-80ea-49c1-b436-de2e8dc0ce19",
   "metadata": {},
   "outputs": [
    {
     "data": {
      "text/plain": [
       "ObjectApiResponse({'acknowledged': True, 'shards_acknowledged': True, 'index': 'food_recipes'})"
      ]
     },
     "execution_count": 77,
     "metadata": {},
     "output_type": "execute_result"
    }
   ],
   "source": [
    "from elasticsearch import Elasticsearch\n",
    "\n",
    "es_client=Elasticsearch('http://localhost:9200')\n",
    "\n",
    "index_settings={\n",
    "    \"settings\":{\n",
    "            \"number_of_shards\":1,\n",
    "            \"number_of_replicas\":0\n",
    "    },\n",
    "    \"mappings\":{\n",
    "            \"properties\":{\n",
    "                    \"title\":{\"type\":\"text\"},\n",
    "                    \"tags\":{\"type\":\"text\"},\n",
    "                    \"introduction\":{\"type\":\"text\"},\n",
    "                    \"ingredients\":{\"type\":\"text\"},\n",
    "                    \"direction\":{\"type\":\"text\"},\n",
    "                    \"combined_vector\":{\n",
    "                            \"type\":\"dense_vector\",\n",
    "                            \"dims\":384,\n",
    "                            \"index\":True,\n",
    "                            \"similarity\":\"cosine\"\n",
    "                     },\n",
    "            },\n",
    "    }\n",
    "}\n",
    "index_name=\"food_recipes\"\n",
    "es_client.indices.delete(index=index_name,ignore_unavailable=True)\n",
    "es_client.indices.create(index=index_name,body=index_settings)                \n",
    "                    \n",
    "                        \n",
    "    \n",
    "    "
   ]
  },
  {
   "cell_type": "code",
   "execution_count": 78,
   "id": "a1e2d854-4151-41fc-8b61-952c1a4eeebd",
   "metadata": {},
   "outputs": [
    {
     "data": {
      "application/vnd.jupyter.widget-view+json": {
       "model_id": "6a2923e9e28247b4a8cae00ba2f2a546",
       "version_major": 2,
       "version_minor": 0
      },
      "text/plain": [
       "  0%|          | 0/360 [00:00<?, ?it/s]"
      ]
     },
     "metadata": {},
     "output_type": "display_data"
    }
   ],
   "source": [
    "from tqdm.auto import tqdm\n",
    "\n",
    "for recipe in tqdm(clean_recipes):\n",
    "            title = recipe['title']\n",
    "            ingredients = recipe['ingredients']\n",
    "            direction = recipe['direction']\n",
    "            recipe['combined_vector']=model.encode(title + ' '+ ingredients + ' '+ direction )\n",
    "            try:\n",
    "                es_client.index(index=index_name,document=recipe)  \n",
    "            except Exception as e:\n",
    "                print(e)\n",
    "            \n",
    " "
   ]
  },
  {
   "cell_type": "code",
   "execution_count": 10,
   "id": "fef8d3f4-924a-4aac-982c-d937a443e0fa",
   "metadata": {},
   "outputs": [],
   "source": [
    "def elastic_search_knn_query(field,vector):\n",
    "            knn={\n",
    "                \"field\":field,\n",
    "                \"query_vector\":vector,\n",
    "                \"k\":5,\n",
    "                \"num_candidates\": 360,\n",
    "            }\n",
    "            search_query={\n",
    "                \"knn\":knn,\n",
    "                \"_source\":[\"title\",\"tags\",\"introduction\",\"ingredients\",\"direction\"]\n",
    "            }\n",
    "            es_results=es_client.search(index=index_name,body=search_query)\n",
    "            results=[]\n",
    "            for hit in es_results['hits']['hits']:\n",
    "                    results.append(hit['_source'])\n",
    "            return results\n",
    "            "
   ]
  },
  {
   "cell_type": "code",
   "execution_count": 11,
   "id": "61fc6501-d567-4e8d-aaa4-30e8a4c0c567",
   "metadata": {},
   "outputs": [],
   "source": [
    "def vector_query(q):\n",
    "        question=q['questions']\n",
    "        vect_query=model.encode(question)\n",
    "        #print(vect_query)\n",
    "        return elastic_search_knn_query('combined_vector',vect_query)\n",
    "            "
   ]
  },
  {
   "cell_type": "code",
   "execution_count": 12,
   "id": "c2a07947-c909-486a-979a-1d8b3e748419",
   "metadata": {},
   "outputs": [],
   "source": [
    "#vector_query(dict(\n",
    "    #question='how to make mashed potatos?'\n",
    "    #))"
   ]
  },
  {
   "cell_type": "markdown",
   "id": "06552396-8f99-4190-a728-a127f8687461",
   "metadata": {},
   "source": [
    "# RAG flow"
   ]
  },
  {
   "cell_type": "code",
   "execution_count": 12,
   "id": "e89259b0-845b-4555-87b8-5b18b57a9cba",
   "metadata": {},
   "outputs": [],
   "source": [
    "def build_prompt(query,search_results):\n",
    "        prompt_template = \"\"\"\n",
    "            you are a chefs assistant . Answer the QUESTION based on CONTEXT from the  database.\n",
    "            use only the facts from the CONTEXT when answering the QUESTION.\n",
    "        QUESTION:{question}\n",
    "        CONTEXT:{context}\n",
    "        \"\"\".strip()\n",
    "        context=\"\"\n",
    "        for doc in search_results:\n",
    "                    context = context + f\"title : {doc['title']} \\n tags : {doc['tags']} \\n introduction : {doc['introduction']} \\n ingredients :{doc['ingredients']} \\n direction : {doc['direction']}\\n\\n\"\n",
    "        prompt=prompt_template.format(question=query,context=context).strip()\n",
    "        return prompt\n",
    "        \n",
    "        "
   ]
  },
  {
   "cell_type": "code",
   "execution_count": 13,
   "id": "f7ecb45f-d6b8-4a53-9716-46bc1ddf5f89",
   "metadata": {},
   "outputs": [],
   "source": [
    "load_dotenv()\n",
    "openai.api_key = os.getenv(\"OPENAI_API_KEY\")"
   ]
  },
  {
   "cell_type": "code",
   "execution_count": 14,
   "id": "3a958b1a-a40c-49ca-9f3a-94e2b0a74d73",
   "metadata": {},
   "outputs": [],
   "source": [
    "from openai import OpenAI\n",
    "client = OpenAI()\n",
    "def llm(prompt,model='gpt-4o-mini'):\n",
    "        response=client.chat.completions.create(model=model,\n",
    "                                            messages=[{\"role\":\"user\",\"content\":prompt}]\n",
    "                                            )\n",
    "        return response.choices[0].message.content\n",
    "        "
   ]
  },
  {
   "cell_type": "code",
   "execution_count": 16,
   "id": "fcb387dc-b33e-44b6-bd26-367c6a172d95",
   "metadata": {},
   "outputs": [],
   "source": [
    "def rag(query:dict , model='gpt-4o-mini') -> str:\n",
    "            search_results=vector_query(query)\n",
    "            prompt=build_prompt(query,search_results)\n",
    "            #print(prompt)\n",
    "            answer=llm(prompt,model=model)\n",
    "            return answer"
   ]
  },
  {
   "cell_type": "code",
   "execution_count": 17,
   "id": "355a54bd-866f-4a98-83c6-d232c2fb6f39",
   "metadata": {},
   "outputs": [
    {
     "name": "stdout",
     "output_type": "stream",
     "text": [
      "For a quick recipe featuring potatoes and cheese, consider making the **Irish Potato Casserole**. It has a minimum preparation time of just 5 minutes. \n",
      "\n",
      "**Ingredients:**\n",
      "- 2 cups Potatoes, peeled and shredded\n",
      "- 1/2 cup Butter, melted\n",
      "- 2 whole Eggs, beaten\n",
      "- 1 tsp Onion, minced\n",
      "- 1 tsp Salt\n",
      "- 1/4 tsp Paprika\n",
      "- 1/2 cup Milk\n",
      "- 1/2 cup Sharp Cheddar Cheese, shredded\n",
      "\n",
      "**Directions:**\n",
      "1. Preheat oven to 350F. Butter a 1.5 quart baking dish.\n",
      "2. In a medium bowl, combine the shredded potatoes, melted butter, eggs, minced onion, salt, and paprika. Mix well.\n",
      "3. Place the potato mixture into the prepared baking dish and pour milk over the top.\n",
      "4. Bake in the preheated oven for 40 minutes. Sprinkle the top with cheese and return to the oven until the cheese melts and is slightly browned. \n",
      "\n",
      "This dish is easy to prepare and delicious!\n"
     ]
    }
   ],
   "source": [
    "question=dict(questions='tell me a recipe with potato and cheese with minimum preparation time?')\n",
    "answer=rag(question)\n",
    "print(answer)"
   ]
  },
  {
   "cell_type": "code",
   "execution_count": 43,
   "id": "e3cfb075-3498-4cfa-a294-a70f1b765988",
   "metadata": {},
   "outputs": [],
   "source": [
    "ground_truth_data=pd.read_csv('../data/ground_truth_data.csv')"
   ]
  },
  {
   "cell_type": "code",
   "execution_count": 44,
   "id": "efc650b4-c735-4f43-934c-99897cf414f0",
   "metadata": {},
   "outputs": [
    {
     "data": {
      "text/html": [
       "<div>\n",
       "<style scoped>\n",
       "    .dataframe tbody tr th:only-of-type {\n",
       "        vertical-align: middle;\n",
       "    }\n",
       "\n",
       "    .dataframe tbody tr th {\n",
       "        vertical-align: top;\n",
       "    }\n",
       "\n",
       "    .dataframe thead th {\n",
       "        text-align: right;\n",
       "    }\n",
       "</style>\n",
       "<table border=\"1\" class=\"dataframe\">\n",
       "  <thead>\n",
       "    <tr style=\"text-align: right;\">\n",
       "      <th></th>\n",
       "      <th>id</th>\n",
       "      <th>questions</th>\n",
       "    </tr>\n",
       "  </thead>\n",
       "  <tbody>\n",
       "    <tr>\n",
       "      <th>0</th>\n",
       "      <td>83f4</td>\n",
       "      <td>What type of potatoes are best for creamy mash...</td>\n",
       "    </tr>\n",
       "    <tr>\n",
       "      <th>1</th>\n",
       "      <td>83f4</td>\n",
       "      <td>Can I use a different type of cheese if I don'...</td>\n",
       "    </tr>\n",
       "    <tr>\n",
       "      <th>2</th>\n",
       "      <td>83f4</td>\n",
       "      <td>How do I adjust the recipe for a larger group ...</td>\n",
       "    </tr>\n",
       "    <tr>\n",
       "      <th>3</th>\n",
       "      <td>83f4</td>\n",
       "      <td>Is there a substitute for mayonnaise in this r...</td>\n",
       "    </tr>\n",
       "    <tr>\n",
       "      <th>4</th>\n",
       "      <td>83f4</td>\n",
       "      <td>What's a good alternative to bacon for a veget...</td>\n",
       "    </tr>\n",
       "  </tbody>\n",
       "</table>\n",
       "</div>"
      ],
      "text/plain": [
       "     id                                          questions\n",
       "0  83f4  What type of potatoes are best for creamy mash...\n",
       "1  83f4  Can I use a different type of cheese if I don'...\n",
       "2  83f4  How do I adjust the recipe for a larger group ...\n",
       "3  83f4  Is there a substitute for mayonnaise in this r...\n",
       "4  83f4  What's a good alternative to bacon for a veget..."
      ]
     },
     "execution_count": 44,
     "metadata": {},
     "output_type": "execute_result"
    }
   ],
   "source": [
    "ground_truth_data.head()"
   ]
  },
  {
   "cell_type": "code",
   "execution_count": 45,
   "id": "07a88d12-177b-4a87-8fd4-0e103c51d636",
   "metadata": {},
   "outputs": [],
   "source": [
    "ground_truth_data=ground_truth_data.sample(n=250,random_state=1)"
   ]
  },
  {
   "cell_type": "code",
   "execution_count": 46,
   "id": "0775eb30-50b2-47cf-9a87-58e160fb4779",
   "metadata": {},
   "outputs": [],
   "source": [
    "sample=ground_truth_data.to_dict(orient='records')"
   ]
  },
  {
   "cell_type": "code",
   "execution_count": 68,
   "id": "d4ba81cd-9138-491e-b771-5ef0fa35bd94",
   "metadata": {},
   "outputs": [
    {
     "name": "stdout",
     "output_type": "stream",
     "text": [
      "{'id': '4ab9', 'questions': 'What temperature should I heat the oil to for frying the chicken?'}\n"
     ]
    }
   ],
   "source": [
    "print(sample[9])"
   ]
  },
  {
   "cell_type": "markdown",
   "id": "c8a73749-ce43-4308-8531-1c5fe3e44b99",
   "metadata": {},
   "source": [
    "## RAG evaluation"
   ]
  },
  {
   "cell_type": "code",
   "execution_count": 20,
   "id": "c91c788c-2b28-433b-9717-0b6c90dd7262",
   "metadata": {},
   "outputs": [],
   "source": [
    "prompt_eval_template=\"\"\"\n",
    "You are an expert evaluator for a RAG system.\n",
    "Your task is to analyze the relevance of the generated answer to the given question.\n",
    "Based on the relevance of the generated answer, you will classify it\n",
    "as \"NON_RELEVANT\", \"PARTLY_RELEVANT\", or \"RELEVANT\".\n",
    "\n",
    "Here is the data for evaluation:\n",
    "\n",
    "Question: {question}\n",
    "Generated Answer: {answer_llm}\n",
    "\n",
    "Please analyze the content and context of the generated answer in relation to the question\n",
    "and provide your evaluation in parsable JSON without using code blocks:\n",
    "\n",
    "{{\n",
    "  \"Relevance\": \"NON_RELEVANT\" | \"PARTLY_RELEVANT\" | \"RELEVANT\",\n",
    "  \"Explanation\": \"[Provide a brief explanation for your evaluation]\"\n",
    "}}\n",
    "\"\"\".strip()"
   ]
  },
  {
   "cell_type": "code",
   "execution_count": 26,
   "id": "5da93e6a-787d-4bda-b47c-90e3068e9a8a",
   "metadata": {},
   "outputs": [
    {
     "data": {
      "application/vnd.jupyter.widget-view+json": {
       "model_id": "e7f209f544d64928a21ff4492294270c",
       "version_major": 2,
       "version_minor": 0
      },
      "text/plain": [
       "  0%|          | 0/250 [00:00<?, ?it/s]"
      ]
     },
     "metadata": {},
     "output_type": "display_data"
    }
   ],
   "source": [
    "evaluations=[]\n",
    "for record in tqdm(sample):\n",
    "        question={'questions': record['questions']} \n",
    "        answer_llm=rag(question)\n",
    "        \n",
    "        prompt=prompt_eval_template.format(\n",
    "                                question=question,\n",
    "                                answer_llm=answer_llm)\n",
    "        evaluation=llm(prompt,model='gpt-4o-mini')\n",
    "        evaluation=json.loads(evaluation)\n",
    "\n",
    "        evaluations.append((record,answer_llm,evaluation))\n"
   ]
  },
  {
   "cell_type": "code",
   "execution_count": 27,
   "id": "7b7ca02b-8ec7-4297-94fe-0cefc608303d",
   "metadata": {},
   "outputs": [],
   "source": [
    "df_eval=pd.DataFrame(evaluations,columns=['record','answer_llm','evaluation'])\n",
    "df_eval['id']=df_eval.record.apply(lambda d:d['id'])\n",
    "df_eval['question']=df_eval.record.apply(lambda d:d['questions'])\n",
    "df_eval['relevance']=df_eval.evaluation.apply(lambda d:d['Relevance'])\n",
    "df_eval['explanation']=df_eval.evaluation.apply(lambda d:d['Explanation'])\n"
   ]
  },
  {
   "cell_type": "code",
   "execution_count": 28,
   "id": "3823b473-8fa5-44cc-8353-5d6e9583a8e5",
   "metadata": {},
   "outputs": [
    {
     "data": {
      "text/html": [
       "<div>\n",
       "<style scoped>\n",
       "    .dataframe tbody tr th:only-of-type {\n",
       "        vertical-align: middle;\n",
       "    }\n",
       "\n",
       "    .dataframe tbody tr th {\n",
       "        vertical-align: top;\n",
       "    }\n",
       "\n",
       "    .dataframe thead th {\n",
       "        text-align: right;\n",
       "    }\n",
       "</style>\n",
       "<table border=\"1\" class=\"dataframe\">\n",
       "  <thead>\n",
       "    <tr style=\"text-align: right;\">\n",
       "      <th></th>\n",
       "      <th>record</th>\n",
       "      <th>answer_llm</th>\n",
       "      <th>evaluation</th>\n",
       "      <th>id</th>\n",
       "      <th>question</th>\n",
       "      <th>relevance</th>\n",
       "      <th>explanation</th>\n",
       "    </tr>\n",
       "  </thead>\n",
       "  <tbody>\n",
       "    <tr>\n",
       "      <th>0</th>\n",
       "      <td>{'id': '11ac', 'questions': 'Is there a vegeta...</td>\n",
       "      <td>Yes, you can use a vegetable bouillon or veget...</td>\n",
       "      <td>{'Relevance': 'PARTLY_RELEVANT', 'Explanation'...</td>\n",
       "      <td>11ac</td>\n",
       "      <td>Is there a vegetarian alternative for the vege...</td>\n",
       "      <td>PARTLY_RELEVANT</td>\n",
       "      <td>The generated answer provides information abou...</td>\n",
       "    </tr>\n",
       "    <tr>\n",
       "      <th>1</th>\n",
       "      <td>{'id': '82cb', 'questions': 'What can I substi...</td>\n",
       "      <td>You can substitute bulghur wheat with quinoa f...</td>\n",
       "      <td>{'Relevance': 'RELEVANT', 'Explanation': 'The ...</td>\n",
       "      <td>82cb</td>\n",
       "      <td>What can I substitute for bulghur wheat if I w...</td>\n",
       "      <td>RELEVANT</td>\n",
       "      <td>The generated answer directly addresses the qu...</td>\n",
       "    </tr>\n",
       "    <tr>\n",
       "      <th>2</th>\n",
       "      <td>{'id': '7493', 'questions': 'How can I adjust ...</td>\n",
       "      <td>To adjust the spice level for a milder taste i...</td>\n",
       "      <td>{'Relevance': 'RELEVANT', 'Explanation': 'The ...</td>\n",
       "      <td>7493</td>\n",
       "      <td>How can I adjust the spice level if I prefer a...</td>\n",
       "      <td>RELEVANT</td>\n",
       "      <td>The generated answer directly addresses the qu...</td>\n",
       "    </tr>\n",
       "    <tr>\n",
       "      <th>3</th>\n",
       "      <td>{'id': 'cddf', 'questions': 'Are there any sug...</td>\n",
       "      <td>The provided context does not specifically men...</td>\n",
       "      <td>{'Relevance': 'NON_RELEVANT', 'Explanation': '...</td>\n",
       "      <td>cddf</td>\n",
       "      <td>Are there any suggested variations to the reci...</td>\n",
       "      <td>NON_RELEVANT</td>\n",
       "      <td>The generated answer does not address the ques...</td>\n",
       "    </tr>\n",
       "    <tr>\n",
       "      <th>4</th>\n",
       "      <td>{'id': 'c720', 'questions': 'What can I use as...</td>\n",
       "      <td>If you have a nut allergy and need a substitut...</td>\n",
       "      <td>{'Relevance': 'RELEVANT', 'Explanation': 'The ...</td>\n",
       "      <td>c720</td>\n",
       "      <td>What can I use as a substitute for the crushed...</td>\n",
       "      <td>RELEVANT</td>\n",
       "      <td>The generated answer directly addresses the qu...</td>\n",
       "    </tr>\n",
       "  </tbody>\n",
       "</table>\n",
       "</div>"
      ],
      "text/plain": [
       "                                              record  \\\n",
       "0  {'id': '11ac', 'questions': 'Is there a vegeta...   \n",
       "1  {'id': '82cb', 'questions': 'What can I substi...   \n",
       "2  {'id': '7493', 'questions': 'How can I adjust ...   \n",
       "3  {'id': 'cddf', 'questions': 'Are there any sug...   \n",
       "4  {'id': 'c720', 'questions': 'What can I use as...   \n",
       "\n",
       "                                          answer_llm  \\\n",
       "0  Yes, you can use a vegetable bouillon or veget...   \n",
       "1  You can substitute bulghur wheat with quinoa f...   \n",
       "2  To adjust the spice level for a milder taste i...   \n",
       "3  The provided context does not specifically men...   \n",
       "4  If you have a nut allergy and need a substitut...   \n",
       "\n",
       "                                          evaluation    id  \\\n",
       "0  {'Relevance': 'PARTLY_RELEVANT', 'Explanation'...  11ac   \n",
       "1  {'Relevance': 'RELEVANT', 'Explanation': 'The ...  82cb   \n",
       "2  {'Relevance': 'RELEVANT', 'Explanation': 'The ...  7493   \n",
       "3  {'Relevance': 'NON_RELEVANT', 'Explanation': '...  cddf   \n",
       "4  {'Relevance': 'RELEVANT', 'Explanation': 'The ...  c720   \n",
       "\n",
       "                                            question        relevance  \\\n",
       "0  Is there a vegetarian alternative for the vege...  PARTLY_RELEVANT   \n",
       "1  What can I substitute for bulghur wheat if I w...         RELEVANT   \n",
       "2  How can I adjust the spice level if I prefer a...         RELEVANT   \n",
       "3  Are there any suggested variations to the reci...     NON_RELEVANT   \n",
       "4  What can I use as a substitute for the crushed...         RELEVANT   \n",
       "\n",
       "                                         explanation  \n",
       "0  The generated answer provides information abou...  \n",
       "1  The generated answer directly addresses the qu...  \n",
       "2  The generated answer directly addresses the qu...  \n",
       "3  The generated answer does not address the ques...  \n",
       "4  The generated answer directly addresses the qu...  "
      ]
     },
     "execution_count": 28,
     "metadata": {},
     "output_type": "execute_result"
    }
   ],
   "source": [
    "df_eval.head()"
   ]
  },
  {
   "cell_type": "code",
   "execution_count": 29,
   "id": "69104284-2394-42ca-b2fd-a6b8614d76a9",
   "metadata": {},
   "outputs": [],
   "source": [
    "del df_eval['record']\n",
    "del df_eval['evaluation']"
   ]
  },
  {
   "cell_type": "code",
   "execution_count": 30,
   "id": "67f3f960-0a02-490e-939b-5d44b0d4064a",
   "metadata": {},
   "outputs": [],
   "source": [
    "df_eval.to_csv('../data/rag_eval_gpt_4o_mini.csv',index=False)"
   ]
  },
  {
   "cell_type": "code",
   "execution_count": 31,
   "id": "0f4093a2-9f77-47b2-b9ea-69ac102543d6",
   "metadata": {},
   "outputs": [
    {
     "data": {
      "text/plain": [
       "relevance\n",
       "RELEVANT           0.844\n",
       "PARTLY_RELEVANT    0.140\n",
       "NON_RELEVANT       0.016\n",
       "Name: proportion, dtype: float64"
      ]
     },
     "execution_count": 31,
     "metadata": {},
     "output_type": "execute_result"
    }
   ],
   "source": [
    "df_eval.relevance.value_counts(normalize=True)"
   ]
  },
  {
   "cell_type": "code",
   "execution_count": 32,
   "id": "b1d3906b-6d39-49f0-a68b-1b76599eb59e",
   "metadata": {},
   "outputs": [
    {
     "data": {
      "text/html": [
       "<div>\n",
       "<style scoped>\n",
       "    .dataframe tbody tr th:only-of-type {\n",
       "        vertical-align: middle;\n",
       "    }\n",
       "\n",
       "    .dataframe tbody tr th {\n",
       "        vertical-align: top;\n",
       "    }\n",
       "\n",
       "    .dataframe thead th {\n",
       "        text-align: right;\n",
       "    }\n",
       "</style>\n",
       "<table border=\"1\" class=\"dataframe\">\n",
       "  <thead>\n",
       "    <tr style=\"text-align: right;\">\n",
       "      <th></th>\n",
       "      <th>answer_llm</th>\n",
       "      <th>id</th>\n",
       "      <th>question</th>\n",
       "      <th>relevance</th>\n",
       "      <th>explanation</th>\n",
       "    </tr>\n",
       "  </thead>\n",
       "  <tbody>\n",
       "    <tr>\n",
       "      <th>3</th>\n",
       "      <td>The provided context does not specifically men...</td>\n",
       "      <td>cddf</td>\n",
       "      <td>Are there any suggested variations to the reci...</td>\n",
       "      <td>NON_RELEVANT</td>\n",
       "      <td>The generated answer does not address the ques...</td>\n",
       "    </tr>\n",
       "    <tr>\n",
       "      <th>96</th>\n",
       "      <td>The context provided does not specify the type...</td>\n",
       "      <td>7332</td>\n",
       "      <td>What type of apple is best to use for the Spic...</td>\n",
       "      <td>NON_RELEVANT</td>\n",
       "      <td>The generated answer does not directly address...</td>\n",
       "    </tr>\n",
       "    <tr>\n",
       "      <th>101</th>\n",
       "      <td>The provided context does not specify any garn...</td>\n",
       "      <td>7afb</td>\n",
       "      <td>What are some garnish options to enhance the p...</td>\n",
       "      <td>NON_RELEVANT</td>\n",
       "      <td>The generated answer does not address the ques...</td>\n",
       "    </tr>\n",
       "    <tr>\n",
       "      <th>248</th>\n",
       "      <td>The context does not specify a particular type...</td>\n",
       "      <td>207f</td>\n",
       "      <td>What type of potatoes work best for making fri...</td>\n",
       "      <td>NON_RELEVANT</td>\n",
       "      <td>The generated answer does not address the ques...</td>\n",
       "    </tr>\n",
       "  </tbody>\n",
       "</table>\n",
       "</div>"
      ],
      "text/plain": [
       "                                            answer_llm    id  \\\n",
       "3    The provided context does not specifically men...  cddf   \n",
       "96   The context provided does not specify the type...  7332   \n",
       "101  The provided context does not specify any garn...  7afb   \n",
       "248  The context does not specify a particular type...  207f   \n",
       "\n",
       "                                              question     relevance  \\\n",
       "3    Are there any suggested variations to the reci...  NON_RELEVANT   \n",
       "96   What type of apple is best to use for the Spic...  NON_RELEVANT   \n",
       "101  What are some garnish options to enhance the p...  NON_RELEVANT   \n",
       "248  What type of potatoes work best for making fri...  NON_RELEVANT   \n",
       "\n",
       "                                           explanation  \n",
       "3    The generated answer does not address the ques...  \n",
       "96   The generated answer does not directly address...  \n",
       "101  The generated answer does not address the ques...  \n",
       "248  The generated answer does not address the ques...  "
      ]
     },
     "execution_count": 32,
     "metadata": {},
     "output_type": "execute_result"
    }
   ],
   "source": [
    "df_eval[df_eval.relevance == 'NON_RELEVANT']"
   ]
  },
  {
   "cell_type": "code",
   "execution_count": 43,
   "id": "ab687c29-7495-483e-bf55-4c66aee8a316",
   "metadata": {},
   "outputs": [
    {
     "data": {
      "application/vnd.jupyter.widget-view+json": {
       "model_id": "a582eb3c08794aae885b88fbbbf44071",
       "version_major": 2,
       "version_minor": 0
      },
      "text/plain": [
       "  0%|          | 0/250 [00:00<?, ?it/s]"
      ]
     },
     "metadata": {},
     "output_type": "display_data"
    }
   ],
   "source": [
    "evaluations_gpt4o=[]\n",
    "for record in tqdm(sample):\n",
    "        question={'questions': record['questions']} \n",
    "        answer_llm=rag(question)\n",
    "        \n",
    "        prompt=prompt_eval_template.format(\n",
    "                                question=question,\n",
    "                                answer_llm=answer_llm)\n",
    "        evaluation=llm(prompt,model='gpt-4o')\n",
    "        try:\n",
    "            evaluation = json.loads(evaluation)\n",
    "        except JSONDecodeError as e:\n",
    "            print(f\"Error decoding JSON: {e}\")\n",
    "            print(f\"Offending JSON string: {evaluation}\")\n",
    "\n",
    "        evaluations_gpt4o.append((record,answer_llm,evaluation))"
   ]
  },
  {
   "cell_type": "code",
   "execution_count": 44,
   "id": "64b0348f-15ba-4131-b319-b1755a68d598",
   "metadata": {},
   "outputs": [],
   "source": [
    "df_eval4o=pd.DataFrame(evaluations_gpt4o,columns=['record','answer_llm','evaluation'])\n",
    "df_eval4o['id']=df_eval4o.record.apply(lambda d:d['id'])\n",
    "df_eval4o['question']=df_eval4o.record.apply(lambda d:d['questions'])\n",
    "df_eval4o['relevance']=df_eval4o.evaluation.apply(lambda d:d['Relevance'])\n",
    "df_eval4o['explanation']=df_eval4o.evaluation.apply(lambda d:d['Explanation'])\n",
    "del df_eval4o['record']\n",
    "del df_eval4o['evaluation']"
   ]
  },
  {
   "cell_type": "code",
   "execution_count": 45,
   "id": "06b21105-ce6a-4fb5-bd5e-534d4584a88b",
   "metadata": {},
   "outputs": [],
   "source": [
    "df_eval4o.to_csv('../data/rag_eval_gpt_4o.csv',index=False)"
   ]
  },
  {
   "cell_type": "code",
   "execution_count": 1,
   "id": "45408224-7c4b-4c08-bd5e-38dc27208d33",
   "metadata": {},
   "outputs": [],
   "source": [
    "#print(evaluations_gpt4o)"
   ]
  },
  {
   "cell_type": "code",
   "execution_count": 47,
   "id": "910fdef4-f5d8-455e-8c05-93e8f2d88e55",
   "metadata": {},
   "outputs": [
    {
     "data": {
      "text/html": [
       "<div>\n",
       "<style scoped>\n",
       "    .dataframe tbody tr th:only-of-type {\n",
       "        vertical-align: middle;\n",
       "    }\n",
       "\n",
       "    .dataframe tbody tr th {\n",
       "        vertical-align: top;\n",
       "    }\n",
       "\n",
       "    .dataframe thead th {\n",
       "        text-align: right;\n",
       "    }\n",
       "</style>\n",
       "<table border=\"1\" class=\"dataframe\">\n",
       "  <thead>\n",
       "    <tr style=\"text-align: right;\">\n",
       "      <th></th>\n",
       "      <th>answer_llm</th>\n",
       "      <th>id</th>\n",
       "      <th>question</th>\n",
       "      <th>relevance</th>\n",
       "      <th>explanation</th>\n",
       "    </tr>\n",
       "  </thead>\n",
       "  <tbody>\n",
       "    <tr>\n",
       "      <th>0</th>\n",
       "      <td>Yes, you can use vegetable stock or broth as a...</td>\n",
       "      <td>11ac</td>\n",
       "      <td>Is there a vegetarian alternative for the vege...</td>\n",
       "      <td>PARTLY_RELEVANT</td>\n",
       "      <td>The generated answer suggests using vegetable ...</td>\n",
       "    </tr>\n",
       "    <tr>\n",
       "      <th>1</th>\n",
       "      <td>If you want a gluten-free option as a substitu...</td>\n",
       "      <td>82cb</td>\n",
       "      <td>What can I substitute for bulghur wheat if I w...</td>\n",
       "      <td>NON_RELEVANT</td>\n",
       "      <td>The generated answer suggests using rice flour...</td>\n",
       "    </tr>\n",
       "    <tr>\n",
       "      <th>2</th>\n",
       "      <td>To adjust the spice level for a milder taste i...</td>\n",
       "      <td>7493</td>\n",
       "      <td>How can I adjust the spice level if I prefer a...</td>\n",
       "      <td>PARTLY_RELEVANT</td>\n",
       "      <td>The generated answer provides a relevant appro...</td>\n",
       "    </tr>\n",
       "    <tr>\n",
       "      <th>3</th>\n",
       "      <td>The provided context does not explicitly menti...</td>\n",
       "      <td>cddf</td>\n",
       "      <td>Are there any suggested variations to the reci...</td>\n",
       "      <td>RELEVANT</td>\n",
       "      <td>The generated answer directly addresses the qu...</td>\n",
       "    </tr>\n",
       "    <tr>\n",
       "      <th>4</th>\n",
       "      <td>If you have a nut allergy, you can use roasted...</td>\n",
       "      <td>c720</td>\n",
       "      <td>What can I use as a substitute for the crushed...</td>\n",
       "      <td>RELEVANT</td>\n",
       "      <td>The generated answer provides suitable substit...</td>\n",
       "    </tr>\n",
       "  </tbody>\n",
       "</table>\n",
       "</div>"
      ],
      "text/plain": [
       "                                          answer_llm    id  \\\n",
       "0  Yes, you can use vegetable stock or broth as a...  11ac   \n",
       "1  If you want a gluten-free option as a substitu...  82cb   \n",
       "2  To adjust the spice level for a milder taste i...  7493   \n",
       "3  The provided context does not explicitly menti...  cddf   \n",
       "4  If you have a nut allergy, you can use roasted...  c720   \n",
       "\n",
       "                                            question        relevance  \\\n",
       "0  Is there a vegetarian alternative for the vege...  PARTLY_RELEVANT   \n",
       "1  What can I substitute for bulghur wheat if I w...     NON_RELEVANT   \n",
       "2  How can I adjust the spice level if I prefer a...  PARTLY_RELEVANT   \n",
       "3  Are there any suggested variations to the reci...         RELEVANT   \n",
       "4  What can I use as a substitute for the crushed...         RELEVANT   \n",
       "\n",
       "                                         explanation  \n",
       "0  The generated answer suggests using vegetable ...  \n",
       "1  The generated answer suggests using rice flour...  \n",
       "2  The generated answer provides a relevant appro...  \n",
       "3  The generated answer directly addresses the qu...  \n",
       "4  The generated answer provides suitable substit...  "
      ]
     },
     "execution_count": 47,
     "metadata": {},
     "output_type": "execute_result"
    }
   ],
   "source": [
    "df_eval4o.head()"
   ]
  },
  {
   "cell_type": "code",
   "execution_count": 48,
   "id": "2792313b-dbac-4168-8f97-fdac41300790",
   "metadata": {},
   "outputs": [
    {
     "data": {
      "text/plain": [
       "relevance\n",
       "RELEVANT           0.748\n",
       "PARTLY_RELEVANT    0.228\n",
       "NON_RELEVANT       0.024\n",
       "Name: proportion, dtype: float64"
      ]
     },
     "execution_count": 48,
     "metadata": {},
     "output_type": "execute_result"
    }
   ],
   "source": [
    "df_eval4o.relevance.value_counts(normalize=True)"
   ]
  },
  {
   "cell_type": "code",
   "execution_count": 49,
   "id": "cb4bd121-ba76-4fe5-b911-73871e30df02",
   "metadata": {},
   "outputs": [
    {
     "data": {
      "text/html": [
       "<div>\n",
       "<style scoped>\n",
       "    .dataframe tbody tr th:only-of-type {\n",
       "        vertical-align: middle;\n",
       "    }\n",
       "\n",
       "    .dataframe tbody tr th {\n",
       "        vertical-align: top;\n",
       "    }\n",
       "\n",
       "    .dataframe thead th {\n",
       "        text-align: right;\n",
       "    }\n",
       "</style>\n",
       "<table border=\"1\" class=\"dataframe\">\n",
       "  <thead>\n",
       "    <tr style=\"text-align: right;\">\n",
       "      <th></th>\n",
       "      <th>answer_llm</th>\n",
       "      <th>id</th>\n",
       "      <th>question</th>\n",
       "      <th>relevance</th>\n",
       "      <th>explanation</th>\n",
       "    </tr>\n",
       "  </thead>\n",
       "  <tbody>\n",
       "    <tr>\n",
       "      <th>3</th>\n",
       "      <td>The provided context does not explicitly menti...</td>\n",
       "      <td>cddf</td>\n",
       "      <td>Are there any suggested variations to the reci...</td>\n",
       "      <td>RELEVANT</td>\n",
       "      <td>The generated answer directly addresses the qu...</td>\n",
       "    </tr>\n",
       "    <tr>\n",
       "      <th>4</th>\n",
       "      <td>If you have a nut allergy, you can use roasted...</td>\n",
       "      <td>c720</td>\n",
       "      <td>What can I use as a substitute for the crushed...</td>\n",
       "      <td>RELEVANT</td>\n",
       "      <td>The generated answer provides suitable substit...</td>\n",
       "    </tr>\n",
       "    <tr>\n",
       "      <th>5</th>\n",
       "      <td>To tell when the dough has risen sufficiently,...</td>\n",
       "      <td>94ba</td>\n",
       "      <td>How can I tell when the dough has risen suffic...</td>\n",
       "      <td>RELEVANT</td>\n",
       "      <td>The answer accurately addresses both parts of ...</td>\n",
       "    </tr>\n",
       "    <tr>\n",
       "      <th>7</th>\n",
       "      <td>Yes, it is possible to make Zopf bread ahead o...</td>\n",
       "      <td>92a0</td>\n",
       "      <td>Is it possible to make Zopf bread ahead of tim...</td>\n",
       "      <td>RELEVANT</td>\n",
       "      <td>The generated answer addresses both parts of t...</td>\n",
       "    </tr>\n",
       "    <tr>\n",
       "      <th>8</th>\n",
       "      <td>To make the sauce spicier, you can add chili p...</td>\n",
       "      <td>e731</td>\n",
       "      <td>How can I make the sauce spicier if I like mor...</td>\n",
       "      <td>RELEVANT</td>\n",
       "      <td>The generated answer directly addresses the qu...</td>\n",
       "    </tr>\n",
       "    <tr>\n",
       "      <th>...</th>\n",
       "      <td>...</td>\n",
       "      <td>...</td>\n",
       "      <td>...</td>\n",
       "      <td>...</td>\n",
       "      <td>...</td>\n",
       "    </tr>\n",
       "    <tr>\n",
       "      <th>244</th>\n",
       "      <td>For making a quesadilla to achieve an authenti...</td>\n",
       "      <td>3aa3</td>\n",
       "      <td>What type of cheese do you recommend for makin...</td>\n",
       "      <td>RELEVANT</td>\n",
       "      <td>The generated answer directly addresses the qu...</td>\n",
       "    </tr>\n",
       "    <tr>\n",
       "      <th>245</th>\n",
       "      <td>To make the mashed potatoes extra cheesy witho...</td>\n",
       "      <td>83f4</td>\n",
       "      <td>What can I do to make the mashed potatoes extr...</td>\n",
       "      <td>RELEVANT</td>\n",
       "      <td>The generated answer directly addresses the qu...</td>\n",
       "    </tr>\n",
       "    <tr>\n",
       "      <th>246</th>\n",
       "      <td>Yes, you can add other ingredients like tomato...</td>\n",
       "      <td>4110</td>\n",
       "      <td>Can I add other ingredients like tomatoes or c...</td>\n",
       "      <td>RELEVANT</td>\n",
       "      <td>The generated answer directly addresses the qu...</td>\n",
       "    </tr>\n",
       "    <tr>\n",
       "      <th>247</th>\n",
       "      <td>Yes, you can add vegetables to the soup. For t...</td>\n",
       "      <td>d8c7</td>\n",
       "      <td>Can I add any vegetables to the soup, and if s...</td>\n",
       "      <td>RELEVANT</td>\n",
       "      <td>The generated answer directly addresses the qu...</td>\n",
       "    </tr>\n",
       "    <tr>\n",
       "      <th>249</th>\n",
       "      <td>For Pulpo a la gallega, you should use a whole...</td>\n",
       "      <td>bde1</td>\n",
       "      <td>What type of octopus should I use for Pulpo a ...</td>\n",
       "      <td>RELEVANT</td>\n",
       "      <td>The generated answer directly addresses both p...</td>\n",
       "    </tr>\n",
       "  </tbody>\n",
       "</table>\n",
       "<p>187 rows × 5 columns</p>\n",
       "</div>"
      ],
      "text/plain": [
       "                                            answer_llm    id  \\\n",
       "3    The provided context does not explicitly menti...  cddf   \n",
       "4    If you have a nut allergy, you can use roasted...  c720   \n",
       "5    To tell when the dough has risen sufficiently,...  94ba   \n",
       "7    Yes, it is possible to make Zopf bread ahead o...  92a0   \n",
       "8    To make the sauce spicier, you can add chili p...  e731   \n",
       "..                                                 ...   ...   \n",
       "244  For making a quesadilla to achieve an authenti...  3aa3   \n",
       "245  To make the mashed potatoes extra cheesy witho...  83f4   \n",
       "246  Yes, you can add other ingredients like tomato...  4110   \n",
       "247  Yes, you can add vegetables to the soup. For t...  d8c7   \n",
       "249  For Pulpo a la gallega, you should use a whole...  bde1   \n",
       "\n",
       "                                              question relevance  \\\n",
       "3    Are there any suggested variations to the reci...  RELEVANT   \n",
       "4    What can I use as a substitute for the crushed...  RELEVANT   \n",
       "5    How can I tell when the dough has risen suffic...  RELEVANT   \n",
       "7    Is it possible to make Zopf bread ahead of tim...  RELEVANT   \n",
       "8    How can I make the sauce spicier if I like mor...  RELEVANT   \n",
       "..                                                 ...       ...   \n",
       "244  What type of cheese do you recommend for makin...  RELEVANT   \n",
       "245  What can I do to make the mashed potatoes extr...  RELEVANT   \n",
       "246  Can I add other ingredients like tomatoes or c...  RELEVANT   \n",
       "247  Can I add any vegetables to the soup, and if s...  RELEVANT   \n",
       "249  What type of octopus should I use for Pulpo a ...  RELEVANT   \n",
       "\n",
       "                                           explanation  \n",
       "3    The generated answer directly addresses the qu...  \n",
       "4    The generated answer provides suitable substit...  \n",
       "5    The answer accurately addresses both parts of ...  \n",
       "7    The generated answer addresses both parts of t...  \n",
       "8    The generated answer directly addresses the qu...  \n",
       "..                                                 ...  \n",
       "244  The generated answer directly addresses the qu...  \n",
       "245  The generated answer directly addresses the qu...  \n",
       "246  The generated answer directly addresses the qu...  \n",
       "247  The generated answer directly addresses the qu...  \n",
       "249  The generated answer directly addresses both p...  \n",
       "\n",
       "[187 rows x 5 columns]"
      ]
     },
     "execution_count": 49,
     "metadata": {},
     "output_type": "execute_result"
    }
   ],
   "source": [
    "df_eval4o[df_eval4o.relevance == 'RELEVANT']"
   ]
  }
 ],
 "metadata": {
  "kernelspec": {
   "display_name": "Python 3 (ipykernel)",
   "language": "python",
   "name": "python3"
  },
  "language_info": {
   "codemirror_mode": {
    "name": "ipython",
    "version": 3
   },
   "file_extension": ".py",
   "mimetype": "text/x-python",
   "name": "python",
   "nbconvert_exporter": "python",
   "pygments_lexer": "ipython3",
   "version": "3.12.1"
  }
 },
 "nbformat": 4,
 "nbformat_minor": 5
}
