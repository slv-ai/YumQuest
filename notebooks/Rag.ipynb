{
 "cells": [
  {
   "cell_type": "code",
   "execution_count": 2,
   "id": "ae69e7ad-6ee0-491c-86e0-8da2ff5fbc85",
   "metadata": {},
   "outputs": [],
   "source": [
    "import pandas as pd\n",
    "import json"
   ]
  },
  {
   "cell_type": "markdown",
   "id": "694b77a7-d6c9-4ac2-bd23-13cf40dff21a",
   "metadata": {},
   "source": [
    "# Data Ingestion and Indexing"
   ]
  },
  {
   "cell_type": "code",
   "execution_count": 4,
   "id": "b601ea2f-e657-43d4-8708-d5d504494a15",
   "metadata": {},
   "outputs": [],
   "source": [
    "df=pd.read_json('../data/recipes.json')"
   ]
  },
  {
   "cell_type": "code",
   "execution_count": 5,
   "id": "7ad37123-5de1-40d6-a06e-9424c0142482",
   "metadata": {},
   "outputs": [],
   "source": [
    "receipes=df.to_dict(orient='records')"
   ]
  },
  {
   "cell_type": "code",
   "execution_count": 8,
   "id": "d54c1c8d-f9c5-4fab-9226-00a0dfad4d66",
   "metadata": {},
   "outputs": [
    {
     "name": "stdout",
     "output_type": "stream",
     "text": [
      "360\n"
     ]
    }
   ],
   "source": [
    "print(len(receipes))"
   ]
  },
  {
   "cell_type": "code",
   "execution_count": 11,
   "id": "bcd17e0e-e54e-4bb5-879e-d70a1bb8eae0",
   "metadata": {},
   "outputs": [
    {
     "data": {
      "text/plain": [
       "{'title': 'Turmeric Flatbread',\n",
       " 'date': Timestamp('2022-08-09 00:00:00'),\n",
       " 'tags': ['bread', 'turkish'],\n",
       " 'introduction': 'A great companion to Turkish Red Lentil Soup. - ⏲️ Prep time: 20 min - 🍳 Cook time: 10 min - 🍽️ Servings: 4',\n",
       " 'ingredients': '- 1 cup Wheat Flour (white or whole) - 1/2 Tbsp Ground Turmeric - 1/2 tsp Kosher Salt - 1/4 tsp Baking Powder - 2 Tbsp Olive Oil',\n",
       " 'direction': '1. Combine flour, turmeric, salt and baking powder.  2. Stir in 1/3 cup water and the olive oil.  3. Knead until smooth (1-2 min). Cover and set aside 15 minutes.  4. Cut the dough into 4 pieces; flatten each into a 6-inch round.  5. Cook one at a time in an oiled skillet over medium-high heat, flip when browned (2 mins).',\n",
       " 'output': {'title': 'Turmeric Flatbread',\n",
       "  'ingredients': '- 1 cup Wheat Flour (white or whole) - 1/2 Tbsp Ground Turmeric - 1/2 tsp Kosher Salt - 1/4 tsp Baking Powder - 2 Tbsp Olive Oil',\n",
       "  'direction': '1. Combine flour, turmeric, salt and baking powder.  2. Stir in 1/3 cup water and the olive oil.  3. Knead until smooth (1-2 min). Cover and set aside 15 minutes.  4. Cut the dough into 4 pieces; flatten each into a 6-inch round.  5. Cook one at a time in an oiled skillet over medium-high heat, flip when browned (2 mins).'}}"
      ]
     },
     "execution_count": 11,
     "metadata": {},
     "output_type": "execute_result"
    }
   ],
   "source": [
    "receipes[2]\n"
   ]
  },
  {
   "cell_type": "code",
   "execution_count": 22,
   "id": "bc4a26b5-cd9c-4b29-bcf5-29cc91172103",
   "metadata": {},
   "outputs": [
    {
     "data": {
      "application/vnd.jupyter.widget-view+json": {
       "model_id": "e7a6de556eaa4d728c228cc015d977da",
       "version_major": 2,
       "version_minor": 0
      },
      "text/plain": [
       "modules.json:   0%|          | 0.00/349 [00:00<?, ?B/s]"
      ]
     },
     "metadata": {},
     "output_type": "display_data"
    },
    {
     "data": {
      "application/vnd.jupyter.widget-view+json": {
       "model_id": "4bfff8a0a3eb41479e971401035d5cb9",
       "version_major": 2,
       "version_minor": 0
      },
      "text/plain": [
       "config_sentence_transformers.json:   0%|          | 0.00/116 [00:00<?, ?B/s]"
      ]
     },
     "metadata": {},
     "output_type": "display_data"
    },
    {
     "data": {
      "application/vnd.jupyter.widget-view+json": {
       "model_id": "9267d065e0734f6ca597d21b478ac56d",
       "version_major": 2,
       "version_minor": 0
      },
      "text/plain": [
       "README.md:   0%|          | 0.00/10.7k [00:00<?, ?B/s]"
      ]
     },
     "metadata": {},
     "output_type": "display_data"
    },
    {
     "data": {
      "application/vnd.jupyter.widget-view+json": {
       "model_id": "3582372459ec494fb1d5fb6ada333e91",
       "version_major": 2,
       "version_minor": 0
      },
      "text/plain": [
       "sentence_bert_config.json:   0%|          | 0.00/53.0 [00:00<?, ?B/s]"
      ]
     },
     "metadata": {},
     "output_type": "display_data"
    },
    {
     "data": {
      "application/vnd.jupyter.widget-view+json": {
       "model_id": "b62844cd8376493393de6189cd15dd16",
       "version_major": 2,
       "version_minor": 0
      },
      "text/plain": [
       "config.json:   0%|          | 0.00/615 [00:00<?, ?B/s]"
      ]
     },
     "metadata": {},
     "output_type": "display_data"
    },
    {
     "data": {
      "application/vnd.jupyter.widget-view+json": {
       "model_id": "361ab0553adc4a83b680c05d32ade5c4",
       "version_major": 2,
       "version_minor": 0
      },
      "text/plain": [
       "model.safetensors:   0%|          | 0.00/133M [00:00<?, ?B/s]"
      ]
     },
     "metadata": {},
     "output_type": "display_data"
    },
    {
     "data": {
      "application/vnd.jupyter.widget-view+json": {
       "model_id": "f308ebb4ab2a474481997712529c03fe",
       "version_major": 2,
       "version_minor": 0
      },
      "text/plain": [
       "tokenizer_config.json:   0%|          | 0.00/352 [00:00<?, ?B/s]"
      ]
     },
     "metadata": {},
     "output_type": "display_data"
    },
    {
     "data": {
      "application/vnd.jupyter.widget-view+json": {
       "model_id": "37a3bba7f36d449b961b73bda953e315",
       "version_major": 2,
       "version_minor": 0
      },
      "text/plain": [
       "vocab.txt:   0%|          | 0.00/232k [00:00<?, ?B/s]"
      ]
     },
     "metadata": {},
     "output_type": "display_data"
    },
    {
     "data": {
      "application/vnd.jupyter.widget-view+json": {
       "model_id": "0f6c700fac0a4e0e96abee438c16a5c6",
       "version_major": 2,
       "version_minor": 0
      },
      "text/plain": [
       "tokenizer.json:   0%|          | 0.00/466k [00:00<?, ?B/s]"
      ]
     },
     "metadata": {},
     "output_type": "display_data"
    },
    {
     "data": {
      "application/vnd.jupyter.widget-view+json": {
       "model_id": "e428965f9777402c96db69faa9ff92a1",
       "version_major": 2,
       "version_minor": 0
      },
      "text/plain": [
       "special_tokens_map.json:   0%|          | 0.00/112 [00:00<?, ?B/s]"
      ]
     },
     "metadata": {},
     "output_type": "display_data"
    },
    {
     "name": "stderr",
     "output_type": "stream",
     "text": [
      "/usr/local/python/3.12.1/lib/python3.12/site-packages/transformers/tokenization_utils_base.py:1617: FutureWarning: `clean_up_tokenization_spaces` was not set. It will be set to `True` by default. This behavior will be deprecated in transformers v4.45, and will be then set to `False` by default. For more details check this issue: https://github.com/huggingface/transformers/issues/31884\n",
      "  warnings.warn(\n"
     ]
    },
    {
     "data": {
      "application/vnd.jupyter.widget-view+json": {
       "model_id": "1c01fbf8a105447781f9275570296bca",
       "version_major": 2,
       "version_minor": 0
      },
      "text/plain": [
       "1_Pooling/config.json:   0%|          | 0.00/190 [00:00<?, ?B/s]"
      ]
     },
     "metadata": {},
     "output_type": "display_data"
    }
   ],
   "source": [
    "from sentence_transformers import SentenceTransformer\n",
    "model_name='all-MiniLM-L12-v2'\n",
    "model=SentenceTransformer(model_name)"
   ]
  },
  {
   "cell_type": "code",
   "execution_count": 27,
   "id": "d31a06cc-80ea-49c1-b436-de2e8dc0ce19",
   "metadata": {},
   "outputs": [
    {
     "data": {
      "text/plain": [
       "ObjectApiResponse({'acknowledged': True, 'shards_acknowledged': True, 'index': 'food_recipes'})"
      ]
     },
     "execution_count": 27,
     "metadata": {},
     "output_type": "execute_result"
    }
   ],
   "source": [
    "from elasticsearch import Elasticsearch\n",
    "\n",
    "es_client=Elasticsearch('http://localhost:9200')\n",
    "\n",
    "index_settings={\n",
    "    \"settings\":{\n",
    "            \"number_of_shards\":1,\n",
    "            \"number_of_replicas\":0\n",
    "    },\n",
    "    \"mappings\":{\n",
    "            \"properties\":{\n",
    "                    \"title\":{\"type\":\"text\"},\n",
    "                    \"tags\":{\"type\":\"text\"},\n",
    "                    \"introduction\":{\"type\":\"text\"},\n",
    "                    \"ingredients\":{\"type\":\"text\"},\n",
    "                    \"direction\":{\"type\":\"text\"},\n",
    "                    \"combined_vector\":{\n",
    "                            \"type\":\"dense_vector\",\n",
    "                            \"dims\":384,\n",
    "                            \"index\":True,\n",
    "                            \"similarity\":\"cosine\"\n",
    "                     },\n",
    "            },\n",
    "    }\n",
    "}\n",
    "index_name=\"food_recipes\"\n",
    "es_client.indices.delete(index=index_name,ignore_unavailable=True)\n",
    "es_client.indices.create(index=index_name,body=index_settings)                \n",
    "                    \n",
    "                        \n",
    "    \n",
    "    "
   ]
  },
  {
   "cell_type": "code",
   "execution_count": 29,
   "id": "a1e2d854-4151-41fc-8b61-952c1a4eeebd",
   "metadata": {},
   "outputs": [
    {
     "data": {
      "application/vnd.jupyter.widget-view+json": {
       "model_id": "86d82242f990474da5e6642cf6d8eb97",
       "version_major": 2,
       "version_minor": 0
      },
      "text/plain": [
       "  0%|          | 0/360 [00:00<?, ?it/s]"
      ]
     },
     "metadata": {},
     "output_type": "display_data"
    }
   ],
   "source": [
    "from tqdm.auto import tqdm\n",
    "\n",
    "for recipe in tqdm(receipes):\n",
    "            title = recipe['title']\n",
    "            ingredients = recipe['ingredients']\n",
    "            direction = recipe['direction']\n",
    "            combined_vector=model.encode(title + ' '+ ingredients + ' '+ direction )\n",
    "            try:\n",
    "                es_client.index(index=index_name,document=recipe)  \n",
    "            except Exception as e:\n",
    "                print(e)\n",
    "            \n",
    " "
   ]
  },
  {
   "cell_type": "code",
   "execution_count": 38,
   "id": "fef8d3f4-924a-4aac-982c-d937a443e0fa",
   "metadata": {},
   "outputs": [],
   "source": [
    "def elastic_search_knn_query(field,vector):\n",
    "            knn={\n",
    "                \"field\":field,\n",
    "                \"query_vector\":vector,\n",
    "                \"k\":5,\n",
    "                \"num_candidates\": 360,\n",
    "            }\n",
    "            search_query={\n",
    "                \"knn\":knn,\n",
    "                \"_source\":[\"title\",\"tags\",\"introduction\",\"ingredients\",\"directions\",\"output\"]\n",
    "            }\n",
    "            es_results=es_client.search(index=index_name,body=search_query)\n",
    "            results=[]\n",
    "            for hit in es_results['hits']['hits']:\n",
    "                    results.append(hit['_source'])\n",
    "            return results\n",
    "            "
   ]
  },
  {
   "cell_type": "code",
   "execution_count": 39,
   "id": "61fc6501-d567-4e8d-aaa4-30e8a4c0c567",
   "metadata": {},
   "outputs": [],
   "source": [
    "def vector_query(q):\n",
    "        question=q['question']\n",
    "        vect_query=model.encode(question)\n",
    "        return elastic_search_knn_query('combined_vector',vect_query)\n",
    "            "
   ]
  },
  {
   "cell_type": "code",
   "execution_count": 40,
   "id": "c2a07947-c909-486a-979a-1d8b3e748419",
   "metadata": {},
   "outputs": [
    {
     "data": {
      "text/plain": [
       "[]"
      ]
     },
     "execution_count": 40,
     "metadata": {},
     "output_type": "execute_result"
    }
   ],
   "source": [
    "vector_query(dict(\n",
    "    question='how to make lentil soup?'\n",
    "    ))"
   ]
  },
  {
   "cell_type": "code",
   "execution_count": null,
   "id": "de4bfd7a-2326-46e3-ab8c-c20b2f39569e",
   "metadata": {},
   "outputs": [],
   "source": []
  }
 ],
 "metadata": {
  "kernelspec": {
   "display_name": "Python 3 (ipykernel)",
   "language": "python",
   "name": "python3"
  },
  "language_info": {
   "codemirror_mode": {
    "name": "ipython",
    "version": 3
   },
   "file_extension": ".py",
   "mimetype": "text/x-python",
   "name": "python",
   "nbconvert_exporter": "python",
   "pygments_lexer": "ipython3",
   "version": "3.12.1"
  }
 },
 "nbformat": 4,
 "nbformat_minor": 5
}
