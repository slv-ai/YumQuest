{
 "cells": [
  {
   "cell_type": "code",
   "execution_count": 2,
   "id": "ae69e7ad-6ee0-491c-86e0-8da2ff5fbc85",
   "metadata": {},
   "outputs": [],
   "source": [
    "import pandas as pd\n",
    "import json"
   ]
  },
  {
   "cell_type": "markdown",
   "id": "694b77a7-d6c9-4ac2-bd23-13cf40dff21a",
   "metadata": {},
   "source": [
    "# Data Ingestion and Indexing"
   ]
  },
  {
   "cell_type": "code",
   "execution_count": 4,
   "id": "b601ea2f-e657-43d4-8708-d5d504494a15",
   "metadata": {},
   "outputs": [],
   "source": [
    "df=pd.read_json('../data/recipes.json')"
   ]
  },
  {
   "cell_type": "code",
   "execution_count": 5,
   "id": "7ad37123-5de1-40d6-a06e-9424c0142482",
   "metadata": {},
   "outputs": [],
   "source": [
    "receipes=df.to_dict(orient='records')"
   ]
  },
  {
   "cell_type": "code",
   "execution_count": 8,
   "id": "d54c1c8d-f9c5-4fab-9226-00a0dfad4d66",
   "metadata": {},
   "outputs": [
    {
     "name": "stdout",
     "output_type": "stream",
     "text": [
      "360\n"
     ]
    }
   ],
   "source": [
    "print(len(receipes))"
   ]
  },
  {
   "cell_type": "code",
   "execution_count": 78,
   "id": "ae7b546b-1c67-4b6f-874c-cb79603db490",
   "metadata": {},
   "outputs": [],
   "source": [
    "clean_recipes = []\n",
    "for recipe in receipes:\n",
    "    clean_recipe = {key: value for key, value in recipe.items() if key not in ['output', 'date']}\n",
    "    clean_recipes.append(clean_recipe)"
   ]
  },
  {
   "cell_type": "code",
   "execution_count": 79,
   "id": "e579d9e7-189c-4a32-96c3-02639b57e4b9",
   "metadata": {},
   "outputs": [
    {
     "data": {
      "text/plain": [
       "{'title': 'Creamy Mashed Potatoes',\n",
       " 'tags': ['potato', 'side', 'cheesefare'],\n",
       " 'introduction': \"![Creamy Mashed Potatoes](/pix/creamy-mashed-potatoes.webp) Mashed potatoes is a really great recipe that is often relegated to the position of side dish. This recipe is a spin of the classical mashed potatoes recipe that's got itself more going on. You can serve this dish for a relatively light meal, or you can also serve it as a side dish if you want to have a really hearty meal.\",\n",
       " 'ingredients': 'The quantities here are for about four adult portions. If you are planning on eating this as a side dish, it might be more like 6-8 portions. * 1kg potatoes * 200ml milk* * 200ml mayonnaise* * ~100g cheese * Garlic powder * 12-16 strips of bacon * Butter * 3-4 green onions * Black pepper * Salt  *You can play with the proportions depending on how creamy or dry you want the mashed potatoes to be.',\n",
       " 'direction': '1. Peel and cut the potatoes into medium sized pieces. 2. Put the potatoes in a pot with some water so that it covers the potatoes and   boil them for about 20-30 minutes, or until the potatoes are soft. 3. About ten minutes before removing the potatoes from the boiling water, cut   the bacon into little pieces and fry it. 4. Warm up the milk and mayonnaise. 5. Shred the cheese. 6. When the potatoes are done, remove all water from the pot, add the warm milk   and mayonnaise mix, add some butter, and mash with a potato masher or a   blender. 7. Add some salt, black pepper and garlic powder to taste and continue mashing   the mix. 8. Once the mix is somewhat homogeneous and the potatoes are properly mashed,   add the shredded cheese and fried bacon and mix a little. 9. Serve and top with chopped green onions.'}"
      ]
     },
     "execution_count": 79,
     "metadata": {},
     "output_type": "execute_result"
    }
   ],
   "source": [
    "clean_recipes[0]"
   ]
  },
  {
   "cell_type": "code",
   "execution_count": 22,
   "id": "bc4a26b5-cd9c-4b29-bcf5-29cc91172103",
   "metadata": {},
   "outputs": [
    {
     "data": {
      "application/vnd.jupyter.widget-view+json": {
       "model_id": "e7a6de556eaa4d728c228cc015d977da",
       "version_major": 2,
       "version_minor": 0
      },
      "text/plain": [
       "modules.json:   0%|          | 0.00/349 [00:00<?, ?B/s]"
      ]
     },
     "metadata": {},
     "output_type": "display_data"
    },
    {
     "data": {
      "application/vnd.jupyter.widget-view+json": {
       "model_id": "4bfff8a0a3eb41479e971401035d5cb9",
       "version_major": 2,
       "version_minor": 0
      },
      "text/plain": [
       "config_sentence_transformers.json:   0%|          | 0.00/116 [00:00<?, ?B/s]"
      ]
     },
     "metadata": {},
     "output_type": "display_data"
    },
    {
     "data": {
      "application/vnd.jupyter.widget-view+json": {
       "model_id": "9267d065e0734f6ca597d21b478ac56d",
       "version_major": 2,
       "version_minor": 0
      },
      "text/plain": [
       "README.md:   0%|          | 0.00/10.7k [00:00<?, ?B/s]"
      ]
     },
     "metadata": {},
     "output_type": "display_data"
    },
    {
     "data": {
      "application/vnd.jupyter.widget-view+json": {
       "model_id": "3582372459ec494fb1d5fb6ada333e91",
       "version_major": 2,
       "version_minor": 0
      },
      "text/plain": [
       "sentence_bert_config.json:   0%|          | 0.00/53.0 [00:00<?, ?B/s]"
      ]
     },
     "metadata": {},
     "output_type": "display_data"
    },
    {
     "data": {
      "application/vnd.jupyter.widget-view+json": {
       "model_id": "b62844cd8376493393de6189cd15dd16",
       "version_major": 2,
       "version_minor": 0
      },
      "text/plain": [
       "config.json:   0%|          | 0.00/615 [00:00<?, ?B/s]"
      ]
     },
     "metadata": {},
     "output_type": "display_data"
    },
    {
     "data": {
      "application/vnd.jupyter.widget-view+json": {
       "model_id": "361ab0553adc4a83b680c05d32ade5c4",
       "version_major": 2,
       "version_minor": 0
      },
      "text/plain": [
       "model.safetensors:   0%|          | 0.00/133M [00:00<?, ?B/s]"
      ]
     },
     "metadata": {},
     "output_type": "display_data"
    },
    {
     "data": {
      "application/vnd.jupyter.widget-view+json": {
       "model_id": "f308ebb4ab2a474481997712529c03fe",
       "version_major": 2,
       "version_minor": 0
      },
      "text/plain": [
       "tokenizer_config.json:   0%|          | 0.00/352 [00:00<?, ?B/s]"
      ]
     },
     "metadata": {},
     "output_type": "display_data"
    },
    {
     "data": {
      "application/vnd.jupyter.widget-view+json": {
       "model_id": "37a3bba7f36d449b961b73bda953e315",
       "version_major": 2,
       "version_minor": 0
      },
      "text/plain": [
       "vocab.txt:   0%|          | 0.00/232k [00:00<?, ?B/s]"
      ]
     },
     "metadata": {},
     "output_type": "display_data"
    },
    {
     "data": {
      "application/vnd.jupyter.widget-view+json": {
       "model_id": "0f6c700fac0a4e0e96abee438c16a5c6",
       "version_major": 2,
       "version_minor": 0
      },
      "text/plain": [
       "tokenizer.json:   0%|          | 0.00/466k [00:00<?, ?B/s]"
      ]
     },
     "metadata": {},
     "output_type": "display_data"
    },
    {
     "data": {
      "application/vnd.jupyter.widget-view+json": {
       "model_id": "e428965f9777402c96db69faa9ff92a1",
       "version_major": 2,
       "version_minor": 0
      },
      "text/plain": [
       "special_tokens_map.json:   0%|          | 0.00/112 [00:00<?, ?B/s]"
      ]
     },
     "metadata": {},
     "output_type": "display_data"
    },
    {
     "name": "stderr",
     "output_type": "stream",
     "text": [
      "/usr/local/python/3.12.1/lib/python3.12/site-packages/transformers/tokenization_utils_base.py:1617: FutureWarning: `clean_up_tokenization_spaces` was not set. It will be set to `True` by default. This behavior will be deprecated in transformers v4.45, and will be then set to `False` by default. For more details check this issue: https://github.com/huggingface/transformers/issues/31884\n",
      "  warnings.warn(\n"
     ]
    },
    {
     "data": {
      "application/vnd.jupyter.widget-view+json": {
       "model_id": "1c01fbf8a105447781f9275570296bca",
       "version_major": 2,
       "version_minor": 0
      },
      "text/plain": [
       "1_Pooling/config.json:   0%|          | 0.00/190 [00:00<?, ?B/s]"
      ]
     },
     "metadata": {},
     "output_type": "display_data"
    }
   ],
   "source": [
    "from sentence_transformers import SentenceTransformer\n",
    "model_name='all-MiniLM-L12-v2'\n",
    "model=SentenceTransformer(model_name)"
   ]
  },
  {
   "cell_type": "code",
   "execution_count": 81,
   "id": "d31a06cc-80ea-49c1-b436-de2e8dc0ce19",
   "metadata": {},
   "outputs": [
    {
     "data": {
      "text/plain": [
       "ObjectApiResponse({'acknowledged': True, 'shards_acknowledged': True, 'index': 'food_recipes'})"
      ]
     },
     "execution_count": 81,
     "metadata": {},
     "output_type": "execute_result"
    }
   ],
   "source": [
    "from elasticsearch import Elasticsearch\n",
    "\n",
    "es_client=Elasticsearch('http://localhost:9200')\n",
    "\n",
    "index_settings={\n",
    "    \"settings\":{\n",
    "            \"number_of_shards\":1,\n",
    "            \"number_of_replicas\":0\n",
    "    },\n",
    "    \"mappings\":{\n",
    "            \"properties\":{\n",
    "                    \"title\":{\"type\":\"text\"},\n",
    "                    \"tags\":{\"type\":\"text\"},\n",
    "                    \"introduction\":{\"type\":\"text\"},\n",
    "                    \"ingredients\":{\"type\":\"text\"},\n",
    "                    \"direction\":{\"type\":\"text\"},\n",
    "                    \"combined_vector\":{\n",
    "                            \"type\":\"dense_vector\",\n",
    "                            \"dims\":384,\n",
    "                            \"index\":True,\n",
    "                            \"similarity\":\"cosine\"\n",
    "                     },\n",
    "            },\n",
    "    }\n",
    "}\n",
    "index_name=\"food_recipes\"\n",
    "es_client.indices.delete(index=index_name,ignore_unavailable=True)\n",
    "es_client.indices.create(index=index_name,body=index_settings)                \n",
    "                    \n",
    "                        \n",
    "    \n",
    "    "
   ]
  },
  {
   "cell_type": "code",
   "execution_count": 83,
   "id": "a1e2d854-4151-41fc-8b61-952c1a4eeebd",
   "metadata": {},
   "outputs": [
    {
     "data": {
      "application/vnd.jupyter.widget-view+json": {
       "model_id": "cef197f3a37f466dbe93716e8bc67aed",
       "version_major": 2,
       "version_minor": 0
      },
      "text/plain": [
       "  0%|          | 0/360 [00:00<?, ?it/s]"
      ]
     },
     "metadata": {},
     "output_type": "display_data"
    }
   ],
   "source": [
    "from tqdm.auto import tqdm\n",
    "\n",
    "for recipe in tqdm(clean_recipes):\n",
    "            title = recipe['title']\n",
    "            ingredients = recipe['ingredients']\n",
    "            direction = recipe['direction']\n",
    "            recipe['combined_vector']=model.encode(title + ' '+ ingredients + ' '+ direction )\n",
    "            try:\n",
    "                es_client.index(index=index_name,document=recipe)  \n",
    "            except Exception as e:\n",
    "                print(e)\n",
    "            \n",
    " "
   ]
  },
  {
   "cell_type": "code",
   "execution_count": 87,
   "id": "fef8d3f4-924a-4aac-982c-d937a443e0fa",
   "metadata": {},
   "outputs": [],
   "source": [
    "def elastic_search_knn_query(field,vector):\n",
    "            knn={\n",
    "                \"field\":field,\n",
    "                \"query_vector\":vector,\n",
    "                \"k\":5,\n",
    "                \"num_candidates\": 360,\n",
    "            }\n",
    "            search_query={\n",
    "                \"knn\":knn,\n",
    "                \"_source\":[\"title\",\"tags\",\"introduction\",\"ingredients\",\"directions\",\"output\"]\n",
    "            }\n",
    "            es_results=es_client.search(index=index_name,body=search_query)\n",
    "            results=[]\n",
    "            for hit in es_results['hits']['hits']:\n",
    "                    results.append(hit['_source'])\n",
    "            return results\n",
    "            "
   ]
  },
  {
   "cell_type": "code",
   "execution_count": 88,
   "id": "61fc6501-d567-4e8d-aaa4-30e8a4c0c567",
   "metadata": {},
   "outputs": [],
   "source": [
    "def vector_query(q):\n",
    "        question=q['question']\n",
    "        vect_query=model.encode(question)\n",
    "        #print(vect_query)\n",
    "        return elastic_search_knn_query('combined_vector',vect_query)\n",
    "            "
   ]
  },
  {
   "cell_type": "code",
   "execution_count": 89,
   "id": "c2a07947-c909-486a-979a-1d8b3e748419",
   "metadata": {},
   "outputs": [
    {
     "data": {
      "text/plain": [
       "[{'ingredients': \"- Potatoes (yellow or brown), I don't count but 10+ - Butter, a stick or two - Whole Milk - Garlic - Cheese (optional) - Onion Greens (optional) - Sour Cream (optional)\",\n",
       "  'title': 'Potato Soup',\n",
       "  'introduction': 'Serves many people or one person for many days.',\n",
       "  'tags': ['potato', 'milk', 'soup']},\n",
       " {'ingredients': '- potatoes - flour - tomato - parmesan - butter - sage or oregano or thyme',\n",
       "  'title': 'Gnocchi',\n",
       "  'introduction': 'Gnocchi is a pasta based on potato, making it a less bloating alternative to other kinds of pasta. They are substantial and can be roasted in butter and other ingredients.',\n",
       "  'tags': ['italian', 'potato', 'side', 'fasting']},\n",
       " {'ingredients': '- 3 Potatoes, peeled and quartered - 7 Tbsp Butter, cut into small chunks - 1/2 cup Sour Cream - 1 Egg - 1 Tbsp Milk - 3 cup Cabbage, shredded - 2 Leeks, chopped - 1 small Onion, chopped - 2 cubes Chicken Bouillon - 1/2 cup Cheddar Cheese, shredded',\n",
       "  'title': 'Colcannon Bake',\n",
       "  'introduction': '- ⏲️ Prep time: 20 min - 🍳 Cook time: 70 min - 🍽️ Servings: 6',\n",
       "  'tags': ['cheesefare', 'potato', 'irish']},\n",
       " {'ingredients': 'The quantities here are for about four adult portions. If you are planning on eating this as a side dish, it might be more like 6-8 portions. * 1kg potatoes * 200ml milk* * 200ml mayonnaise* * ~100g cheese * Garlic powder * 12-16 strips of bacon * Butter * 3-4 green onions * Black pepper * Salt  *You can play with the proportions depending on how creamy or dry you want the mashed potatoes to be.',\n",
       "  'title': 'Creamy Mashed Potatoes',\n",
       "  'introduction': \"![Creamy Mashed Potatoes](/pix/creamy-mashed-potatoes.webp) Mashed potatoes is a really great recipe that is often relegated to the position of side dish. This recipe is a spin of the classical mashed potatoes recipe that's got itself more going on. You can serve this dish for a relatively light meal, or you can also serve it as a side dish if you want to have a really hearty meal.\",\n",
       "  'tags': ['potato', 'side', 'cheesefare']},\n",
       " {'ingredients': '- 5 Potatoes, peeled and cut into bite-size chunks (about 2 lbs) - 1 cup Plain Yogurt - 1/2 cup Mayonnaise - 1 Tbsp Prepared Horseradish - 4 Radishes, thinly sliced - 2 stalks Celery, diced - 2 large Green Onions, thinly sliced - 1/4 cup Fresh Parsley, chopped - 1/4 cup Fresh Dill, chopped',\n",
       "  'title': 'Perfect Potato Salad',\n",
       "  'introduction': '- ⏲️ Prep time: 15 min - 🍳 Cook time: 5 min - 🍽️ Servings: 8',\n",
       "  'tags': ['potato', 'salad', 'american']}]"
      ]
     },
     "execution_count": 89,
     "metadata": {},
     "output_type": "execute_result"
    }
   ],
   "source": [
    "vector_query(dict(\n",
    "    question='how to make mashed potatos?'\n",
    "    ))"
   ]
  }
 ],
 "metadata": {
  "kernelspec": {
   "display_name": "Python 3 (ipykernel)",
   "language": "python",
   "name": "python3"
  },
  "language_info": {
   "codemirror_mode": {
    "name": "ipython",
    "version": 3
   },
   "file_extension": ".py",
   "mimetype": "text/x-python",
   "name": "python",
   "nbconvert_exporter": "python",
   "pygments_lexer": "ipython3",
   "version": "3.12.1"
  }
 },
 "nbformat": 4,
 "nbformat_minor": 5
}
