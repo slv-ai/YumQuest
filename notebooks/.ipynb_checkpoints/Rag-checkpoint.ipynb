{
 "cells": [
  {
   "cell_type": "code",
   "execution_count": 19,
   "id": "ae69e7ad-6ee0-491c-86e0-8da2ff5fbc85",
   "metadata": {},
   "outputs": [],
   "source": [
    "import pandas as pd\n",
    "import json\n",
    "import os\n",
    "from dotenv import load_dotenv\n",
    "import openai"
   ]
  },
  {
   "cell_type": "markdown",
   "id": "694b77a7-d6c9-4ac2-bd23-13cf40dff21a",
   "metadata": {},
   "source": [
    "# Data Ingestion and Indexing"
   ]
  },
  {
   "cell_type": "code",
   "execution_count": 20,
   "id": "b601ea2f-e657-43d4-8708-d5d504494a15",
   "metadata": {},
   "outputs": [],
   "source": [
    "df=pd.read_json('../data/recipes.json')"
   ]
  },
  {
   "cell_type": "code",
   "execution_count": 21,
   "id": "7ad37123-5de1-40d6-a06e-9424c0142482",
   "metadata": {},
   "outputs": [],
   "source": [
    "receipes=df.to_dict(orient='records')"
   ]
  },
  {
   "cell_type": "code",
   "execution_count": 22,
   "id": "d54c1c8d-f9c5-4fab-9226-00a0dfad4d66",
   "metadata": {},
   "outputs": [
    {
     "name": "stdout",
     "output_type": "stream",
     "text": [
      "360\n"
     ]
    }
   ],
   "source": [
    "print(len(receipes))"
   ]
  },
  {
   "cell_type": "code",
   "execution_count": 23,
   "id": "ae7b546b-1c67-4b6f-874c-cb79603db490",
   "metadata": {},
   "outputs": [],
   "source": [
    "clean_recipes = []\n",
    "for recipe in receipes:\n",
    "    clean_recipe = {key: value for key, value in recipe.items() if key not in ['output', 'date']}\n",
    "    clean_recipes.append(clean_recipe)"
   ]
  },
  {
   "cell_type": "code",
   "execution_count": 24,
   "id": "e579d9e7-189c-4a32-96c3-02639b57e4b9",
   "metadata": {},
   "outputs": [
    {
     "data": {
      "text/plain": [
       "{'title': 'Creamy Mashed Potatoes',\n",
       " 'tags': ['potato', 'side', 'cheesefare'],\n",
       " 'introduction': \"![Creamy Mashed Potatoes](/pix/creamy-mashed-potatoes.webp) Mashed potatoes is a really great recipe that is often relegated to the position of side dish. This recipe is a spin of the classical mashed potatoes recipe that's got itself more going on. You can serve this dish for a relatively light meal, or you can also serve it as a side dish if you want to have a really hearty meal.\",\n",
       " 'ingredients': 'The quantities here are for about four adult portions. If you are planning on eating this as a side dish, it might be more like 6-8 portions. * 1kg potatoes * 200ml milk* * 200ml mayonnaise* * ~100g cheese * Garlic powder * 12-16 strips of bacon * Butter * 3-4 green onions * Black pepper * Salt  *You can play with the proportions depending on how creamy or dry you want the mashed potatoes to be.',\n",
       " 'direction': '1. Peel and cut the potatoes into medium sized pieces. 2. Put the potatoes in a pot with some water so that it covers the potatoes and   boil them for about 20-30 minutes, or until the potatoes are soft. 3. About ten minutes before removing the potatoes from the boiling water, cut   the bacon into little pieces and fry it. 4. Warm up the milk and mayonnaise. 5. Shred the cheese. 6. When the potatoes are done, remove all water from the pot, add the warm milk   and mayonnaise mix, add some butter, and mash with a potato masher or a   blender. 7. Add some salt, black pepper and garlic powder to taste and continue mashing   the mix. 8. Once the mix is somewhat homogeneous and the potatoes are properly mashed,   add the shredded cheese and fried bacon and mix a little. 9. Serve and top with chopped green onions.'}"
      ]
     },
     "execution_count": 24,
     "metadata": {},
     "output_type": "execute_result"
    }
   ],
   "source": [
    "clean_recipes[0]"
   ]
  },
  {
   "cell_type": "code",
   "execution_count": 25,
   "id": "bc4a26b5-cd9c-4b29-bcf5-29cc91172103",
   "metadata": {},
   "outputs": [
    {
     "name": "stderr",
     "output_type": "stream",
     "text": [
      "/usr/local/python/3.12.1/lib/python3.12/site-packages/sentence_transformers/cross_encoder/CrossEncoder.py:13: TqdmExperimentalWarning: Using `tqdm.autonotebook.tqdm` in notebook mode. Use `tqdm.tqdm` instead to force console mode (e.g. in jupyter console)\n",
      "  from tqdm.autonotebook import tqdm, trange\n",
      "/usr/local/python/3.12.1/lib/python3.12/site-packages/transformers/tokenization_utils_base.py:1617: FutureWarning: `clean_up_tokenization_spaces` was not set. It will be set to `True` by default. This behavior will be deprecated in transformers v4.45, and will be then set to `False` by default. For more details check this issue: https://github.com/huggingface/transformers/issues/31884\n",
      "  warnings.warn(\n"
     ]
    }
   ],
   "source": [
    "from sentence_transformers import SentenceTransformer\n",
    "model_name='all-MiniLM-L12-v2'\n",
    "model=SentenceTransformer(model_name)"
   ]
  },
  {
   "cell_type": "code",
   "execution_count": 26,
   "id": "d31a06cc-80ea-49c1-b436-de2e8dc0ce19",
   "metadata": {},
   "outputs": [
    {
     "data": {
      "text/plain": [
       "ObjectApiResponse({'acknowledged': True, 'shards_acknowledged': True, 'index': 'food_recipes'})"
      ]
     },
     "execution_count": 26,
     "metadata": {},
     "output_type": "execute_result"
    }
   ],
   "source": [
    "from elasticsearch import Elasticsearch\n",
    "\n",
    "es_client=Elasticsearch('http://localhost:9200')\n",
    "\n",
    "index_settings={\n",
    "    \"settings\":{\n",
    "            \"number_of_shards\":1,\n",
    "            \"number_of_replicas\":0\n",
    "    },\n",
    "    \"mappings\":{\n",
    "            \"properties\":{\n",
    "                    \"title\":{\"type\":\"text\"},\n",
    "                    \"tags\":{\"type\":\"text\"},\n",
    "                    \"introduction\":{\"type\":\"text\"},\n",
    "                    \"ingredients\":{\"type\":\"text\"},\n",
    "                    \"direction\":{\"type\":\"text\"},\n",
    "                    \"combined_vector\":{\n",
    "                            \"type\":\"dense_vector\",\n",
    "                            \"dims\":384,\n",
    "                            \"index\":True,\n",
    "                            \"similarity\":\"cosine\"\n",
    "                     },\n",
    "            },\n",
    "    }\n",
    "}\n",
    "index_name=\"food_recipes\"\n",
    "es_client.indices.delete(index=index_name,ignore_unavailable=True)\n",
    "es_client.indices.create(index=index_name,body=index_settings)                \n",
    "                    \n",
    "                        \n",
    "    \n",
    "    "
   ]
  },
  {
   "cell_type": "code",
   "execution_count": 27,
   "id": "a1e2d854-4151-41fc-8b61-952c1a4eeebd",
   "metadata": {},
   "outputs": [
    {
     "data": {
      "application/vnd.jupyter.widget-view+json": {
       "model_id": "0a4b9308447f442ab2b6a68c27092ced",
       "version_major": 2,
       "version_minor": 0
      },
      "text/plain": [
       "  0%|          | 0/360 [00:00<?, ?it/s]"
      ]
     },
     "metadata": {},
     "output_type": "display_data"
    }
   ],
   "source": [
    "from tqdm.auto import tqdm\n",
    "\n",
    "for recipe in tqdm(clean_recipes):\n",
    "            title = recipe['title']\n",
    "            ingredients = recipe['ingredients']\n",
    "            direction = recipe['direction']\n",
    "            recipe['combined_vector']=model.encode(title + ' '+ ingredients + ' '+ direction )\n",
    "            try:\n",
    "                es_client.index(index=index_name,document=recipe)  \n",
    "            except Exception as e:\n",
    "                print(e)\n",
    "            \n",
    " "
   ]
  },
  {
   "cell_type": "code",
   "execution_count": 28,
   "id": "fef8d3f4-924a-4aac-982c-d937a443e0fa",
   "metadata": {},
   "outputs": [],
   "source": [
    "def elastic_search_knn_query(field,vector):\n",
    "            knn={\n",
    "                \"field\":field,\n",
    "                \"query_vector\":vector,\n",
    "                \"k\":5,\n",
    "                \"num_candidates\": 360,\n",
    "            }\n",
    "            search_query={\n",
    "                \"knn\":knn,\n",
    "                \"_source\":[\"title\",\"tags\",\"introduction\",\"ingredients\",\"direction\"]\n",
    "            }\n",
    "            es_results=es_client.search(index=index_name,body=search_query)\n",
    "            results=[]\n",
    "            for hit in es_results['hits']['hits']:\n",
    "                    results.append(hit['_source'])\n",
    "            return results\n",
    "            "
   ]
  },
  {
   "cell_type": "code",
   "execution_count": 38,
   "id": "61fc6501-d567-4e8d-aaa4-30e8a4c0c567",
   "metadata": {},
   "outputs": [],
   "source": [
    "def vector_query(q):\n",
    "        question=q['question']\n",
    "        vect_query=model.encode(question)\n",
    "        #print(vect_query)\n",
    "        return elastic_search_knn_query('combined_vector',vect_query)\n",
    "            "
   ]
  },
  {
   "cell_type": "code",
   "execution_count": 37,
   "id": "c2a07947-c909-486a-979a-1d8b3e748419",
   "metadata": {},
   "outputs": [],
   "source": [
    "#vector_query(dict(\n",
    "    #question='how to make mashed potatos?'\n",
    "    #))"
   ]
  },
  {
   "cell_type": "markdown",
   "id": "06552396-8f99-4190-a728-a127f8687461",
   "metadata": {},
   "source": [
    "# RAG flow"
   ]
  },
  {
   "cell_type": "code",
   "execution_count": 31,
   "id": "e89259b0-845b-4555-87b8-5b18b57a9cba",
   "metadata": {},
   "outputs": [],
   "source": [
    "def build_prompt(query,search_results):\n",
    "        prompt_template = \"\"\"\n",
    "            you are a chefs assistant . Answer the QUESTION based on CONTEXT from the  database.\n",
    "            use only the facts from the CONTEXT when answering the QUESTION.\n",
    "        QUESTION:{question}\n",
    "        CONTEXT:{context}\n",
    "        \"\"\".strip()\n",
    "        context=\"\"\n",
    "        for doc in search_results:\n",
    "                    context = context + f\"title : {doc['title']} \\n tags : {doc['tags']} \\n introduction : {doc['introduction']} \\n ingredients :{doc['ingredients']} \\n direction : {doc['direction']}\\n\\n\"\n",
    "        prompt=prompt_template.format(question=query,context=context).strip()\n",
    "        return prompt\n",
    "        \n",
    "        "
   ]
  },
  {
   "cell_type": "code",
   "execution_count": 32,
   "id": "f7ecb45f-d6b8-4a53-9716-46bc1ddf5f89",
   "metadata": {},
   "outputs": [],
   "source": [
    "load_dotenv()\n",
    "openai.api_key = os.getenv(\"OPENAI_API_KEY\")"
   ]
  },
  {
   "cell_type": "code",
   "execution_count": 48,
   "id": "3a958b1a-a40c-49ca-9f3a-94e2b0a74d73",
   "metadata": {},
   "outputs": [],
   "source": [
    "from openai import OpenAI\n",
    "client = OpenAI()\n",
    "def llm(prompt,model='gpt-4o-mini'):\n",
    "        response=client.chat.completions.create(model=model,\n",
    "                                            messages=[{\"role\":\"user\",\"content\":prompt}]\n",
    "                                            )\n",
    "        return response.choices[0].message.content\n",
    "        "
   ]
  },
  {
   "cell_type": "code",
   "execution_count": 55,
   "id": "fcb387dc-b33e-44b6-bd26-367c6a172d95",
   "metadata": {},
   "outputs": [],
   "source": [
    "def rag(query:dict , model='gpt-4o-mini') -> str:\n",
    "            search_results=vector_query(query)\n",
    "            prompt=build_prompt(query,search_results)\n",
    "            #print(prompt)\n",
    "            answer=llm(prompt,model=model)\n",
    "            return answer"
   ]
  },
  {
   "cell_type": "code",
   "execution_count": 56,
   "id": "355a54bd-866f-4a98-83c6-d232c2fb6f39",
   "metadata": {},
   "outputs": [
    {
     "name": "stdout",
     "output_type": "stream",
     "text": [
      "One quick recipe with potato and cheese is the **Irish Potato Casserole**. Here are the details:\n",
      "\n",
      "- **Prep Time:** 5 min\n",
      "- **Cook Time:** 45 min\n",
      "- **Servings:** 6\n",
      "\n",
      "**Ingredients:**\n",
      "- 2 cups Potatoes, peeled and shredded\n",
      "- 1/2 cup Butter, melted\n",
      "- 2 whole Eggs, beaten\n",
      "- 1 tsp Onion, minced\n",
      "- 1 tsp Salt\n",
      "- 1/4 tsp Paprika\n",
      "- 1/2 cup Milk\n",
      "- 1/2 cup Sharp Cheddar Cheese, shredded\n",
      "\n",
      "**Directions:**\n",
      "1. Preheat the oven to 350°F.\n",
      "2. Butter a 1.5 quart baking dish.\n",
      "3. In a medium bowl, combine the potatoes, melted butter, eggs, onion, salt, and paprika. Mix well.\n",
      "4. Place the potato mixture into the prepared baking dish and pour milk over the top.\n",
      "5. Bake in the preheated oven for 40 minutes. Sprinkle the top with cheese, then return to the oven until the cheese melts and is slightly browned.\n",
      "\n",
      "This recipe is quick to prepare and includes both potatoes and cheese!\n"
     ]
    }
   ],
   "source": [
    "question=dict(question='tell me a recipe with potato and cheese with minimum preparation time?')\n",
    "answer=rag(question)\n",
    "print(answer)"
   ]
  },
  {
   "cell_type": "code",
   "execution_count": null,
   "id": "57e8e16f-ccfd-4012-82bb-7b2de691c639",
   "metadata": {},
   "outputs": [],
   "source": []
  }
 ],
 "metadata": {
  "kernelspec": {
   "display_name": "Python 3 (ipykernel)",
   "language": "python",
   "name": "python3"
  },
  "language_info": {
   "codemirror_mode": {
    "name": "ipython",
    "version": 3
   },
   "file_extension": ".py",
   "mimetype": "text/x-python",
   "name": "python",
   "nbconvert_exporter": "python",
   "pygments_lexer": "ipython3",
   "version": "3.12.1"
  }
 },
 "nbformat": 4,
 "nbformat_minor": 5
}
